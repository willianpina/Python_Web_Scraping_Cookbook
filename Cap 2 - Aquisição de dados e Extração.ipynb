{
 "cells": [
  {
   "cell_type": "markdown",
   "source": [
    "<h1 align= center>Aquisição de Dados e Extração</h1>\n",
    "<p align= center><img src=https://www.bmr.it/bmr18/bmr-cont/uploads/2018/08/software.png width=500></p>"
   ],
   "metadata": {
    "collapsed": false,
    "pycharm": {
     "name": "#%% md\n"
    }
   }
  },
  {
   "cell_type": "markdown",
   "source": [
    "## How to parse websites and navigate the DOM using BeautifulSoup"
   ],
   "metadata": {
    "collapsed": false,
    "pycharm": {
     "name": "#%% md\n"
    }
   }
  },
  {
   "cell_type": "code",
   "execution_count": 2,
   "outputs": [],
   "source": [
    "import requests\n",
    "from bs4 import BeautifulSoup\n",
    "\n",
    "html = requests.get('http://localhost:8080/planets.html').text\n",
    "\n",
    "soup = BeautifulSoup(html, 'lxml')"
   ],
   "metadata": {
    "collapsed": false,
    "pycharm": {
     "name": "#%%\n"
    }
   }
  },
  {
   "cell_type": "code",
   "execution_count": 3,
   "outputs": [
    {
     "data": {
      "text/plain": "<tr id=\"planetHeader\">\n<th>\n</th>\n<th>\n                    Name\n                </th>\n<th>\n                    Mass (10^24kg)\n                </th>\n<th>\n                    Diameter (km)\n                </th>\n<th>\n                    How it got its Name\n                </th>\n<th>\n                    More Info\n                </th>\n</tr>"
     },
     "execution_count": 3,
     "metadata": {},
     "output_type": "execute_result"
    }
   ],
   "source": [
    "soup.html.body.div.tr"
   ],
   "metadata": {
    "collapsed": false,
    "pycharm": {
     "name": "#%%\n"
    }
   }
  },
  {
   "cell_type": "code",
   "execution_count": 4,
   "outputs": [
    {
     "data": {
      "text/plain": "<list_iterator at 0x2d85adf3f70>"
     },
     "execution_count": 4,
     "metadata": {},
     "output_type": "execute_result"
    }
   ],
   "source": [
    "soup.html.body.div.table.children"
   ],
   "metadata": {
    "collapsed": false,
    "pycharm": {
     "name": "#%%\n"
    }
   }
  },
  {
   "cell_type": "code",
   "execution_count": 5,
   "outputs": [
    {
     "data": {
      "text/plain": "['\\n',\n '<tr id=\"planetHeader\">\\n<th>\\n</th>\\n<th>\\r\\n     ',\n '\\n',\n '<tr class=\"planet\" id=\"planet1\" name=\"Mercury',\n '\\n',\n '<tr class=\"planet\" id=\"planet2\" name=\"Venus\">',\n '\\n',\n '<tr class=\"planet\" id=\"planet3\" name=\"Earth\">',\n '\\n',\n '<tr class=\"planet\" id=\"planet4\" name=\"Mars\">\\n',\n '\\n',\n '<tr class=\"planet\" id=\"planet5\" name=\"Jupiter',\n '\\n',\n '<tr class=\"planet\" id=\"planet6\" name=\"Saturn\"',\n '\\n',\n '<tr class=\"planet\" id=\"planet7\" name=\"Uranus\"',\n '\\n',\n '<tr class=\"planet\" id=\"planet8\" name=\"Neptune',\n '\\n',\n '<tr class=\"planet\" id=\"planet9\" name=\"Pluto\">',\n '\\n']"
     },
     "execution_count": 5,
     "metadata": {},
     "output_type": "execute_result"
    }
   ],
   "source": [
    "# Usando uma lista de List Comphresion\n",
    "[ str(c)[:45] for c in soup.html.body.div.table.children]"
   ],
   "metadata": {
    "collapsed": false,
    "pycharm": {
     "name": "#%%\n"
    }
   }
  },
  {
   "cell_type": "code",
   "execution_count": 6,
   "outputs": [
    {
     "data": {
      "text/plain": "'<table border=\"1\" id=\"planetsTable\">\\n<tr id=\"planetHeader\">\\n<th>\\n</th>\\n<th>\\r\\n                    Name\\r\\n                </th>\\n<th>\\r\\n                    Mass (10^24kg)\\r\\n                </th>\\n<th>\\r\\n     '"
     },
     "execution_count": 6,
     "metadata": {},
     "output_type": "execute_result"
    }
   ],
   "source": [
    "# utilizando o .parent (Pais)\n",
    "\n",
    "str(soup.html.body.div.table.tr.parent)[:200]"
   ],
   "metadata": {
    "collapsed": false,
    "pycharm": {
     "name": "#%%\n"
    }
   }
  },
  {
   "cell_type": "markdown",
   "source": [
    "## Searching the DOM with Beautiful Soup's find methods"
   ],
   "metadata": {
    "collapsed": false,
    "pycharm": {
     "name": "#%% md\n"
    }
   }
  },
  {
   "cell_type": "code",
   "execution_count": 7,
   "outputs": [
    {
     "data": {
      "text/plain": "'<table border=\"1\" id=\"planetsTable\">\\n<tr id=\"planetHeader\">\\n<th>\\n</th>\\n<th>\\r\\n                    Nam'"
     },
     "execution_count": 7,
     "metadata": {},
     "output_type": "execute_result"
    }
   ],
   "source": [
    "table = soup.find('table')\n",
    "str(table)[:100]"
   ],
   "metadata": {
    "collapsed": false,
    "pycharm": {
     "name": "#%%\n"
    }
   }
  },
  {
   "cell_type": "code",
   "execution_count": 8,
   "outputs": [
    {
     "data": {
      "text/plain": "['<tr id=\"planetHeader\">\\n<th>\\n</th>\\n<th>\\r\\n          ',\n '<tr class=\"planet\" id=\"planet1\" name=\"Mercury\">\\n<t',\n '<tr class=\"planet\" id=\"planet2\" name=\"Venus\">\\n<td>',\n '<tr class=\"planet\" id=\"planet3\" name=\"Earth\">\\n<td>',\n '<tr class=\"planet\" id=\"planet4\" name=\"Mars\">\\n<td>\\n',\n '<tr class=\"planet\" id=\"planet5\" name=\"Jupiter\">\\n<t',\n '<tr class=\"planet\" id=\"planet6\" name=\"Saturn\">\\n<td',\n '<tr class=\"planet\" id=\"planet7\" name=\"Uranus\">\\n<td',\n '<tr class=\"planet\" id=\"planet8\" name=\"Neptune\">\\n<t',\n '<tr class=\"planet\" id=\"planet9\" name=\"Pluto\">\\n<td>']"
     },
     "execution_count": 8,
     "metadata": {},
     "output_type": "execute_result"
    }
   ],
   "source": [
    "[str(tr)[:50] for tr in table.findAll('tr')]"
   ],
   "metadata": {
    "collapsed": false,
    "pycharm": {
     "name": "#%%\n"
    }
   }
  },
  {
   "cell_type": "code",
   "execution_count": 9,
   "outputs": [
    {
     "data": {
      "text/plain": "<tr class=\"planet\" id=\"planet3\" name=\"Earth\">\n<td>\n<img src=\"img/earth-150x150.png\"/>\n</td>\n<td>\n                    Earth\n                </td>\n<td>\n                    5.97\n                </td>\n<td>\n                    12756\n                </td>\n<td>\n                    The name Earth comes from the Indo-European base 'er,'which produced the Germanic noun 'ertho,' and ultimately German 'erde,' Dutch 'aarde,' Scandinavian 'jord,' and English 'earth.' Related forms include Greek 'eraze,' meaning 'on the ground,' and Welsh 'erw,' meaning 'a piece of land.'\n                </td>\n<td>\n<a href=\"https://en.wikipedia.org/wiki/Earth\">Wikipedia</a>\n</td>\n</tr>"
     },
     "execution_count": 9,
     "metadata": {},
     "output_type": "execute_result"
    }
   ],
   "source": [
    "table.find(\"tr\", {\"id\": \"planet3\"})"
   ],
   "metadata": {
    "collapsed": false,
    "pycharm": {
     "name": "#%%\n"
    }
   }
  },
  {
   "cell_type": "code",
   "execution_count": 10,
   "outputs": [
    {
     "data": {
      "text/plain": "{'Mercury': '0.330',\n 'Venus': '4.87',\n 'Earth': '5.97',\n 'Mars': '0.642',\n 'Jupiter': '1898',\n 'Saturn': '568',\n 'Uranus': '86.8',\n 'Neptune': '102',\n 'Pluto': '0.0146'}"
     },
     "execution_count": 10,
     "metadata": {},
     "output_type": "execute_result"
    }
   ],
   "source": [
    "items = dict()\n",
    "planet_rows = table.findAll('tr', {'class': 'planet'})\n",
    "for i in planet_rows:\n",
    "\ttds = i.findAll('td')\n",
    "\titems[tds[1].text.strip()] = tds[2].text.strip()\n",
    "\n",
    "items"
   ],
   "metadata": {
    "collapsed": false,
    "pycharm": {
     "name": "#%%\n"
    }
   }
  },
  {
   "cell_type": "markdown",
   "source": [
    "## Querying the DOM with XPath and lxml\n",
    "\n"
   ],
   "metadata": {
    "collapsed": false,
    "pycharm": {
     "name": "#%% md\n"
    }
   }
  },
  {
   "cell_type": "markdown",
   "source": [
    "Alguns benefícios de utilizar **XPath**:\n",
    "* Mais fácil de navegar pelo DOM\n",
    "* Mais sofisticado e mais poderoso que o CSS Selector e as Regular Expressions\n",
    "* Mais funções integradas e extensíveis\n",
    "* Amplamente suportado por outras bibliotecas e plataformas de Scraping\n",
    "\n",
    "O Xpath contém sete modelos de dados:\n",
    "* nó raiz (mais elevado)\n",
    "* nó elemento (\\<a>..\\</a>)\n",
    "* nó atributo (href='example.html')\n",
    "* nó texto ('this is a text')\n",
    "* nó comentário (<!-- um comentário -->)\n",
    "* nó namespace\n",
    "* nó de processamento de instrução\n",
    "\n",
    "XPath pode retornar diferentes tipos de dados:\n",
    "* strings\n",
    "* booleanos\n",
    "* numéricos\n",
    "* conjunto de nó (mais comum)"
   ],
   "metadata": {
    "collapsed": false,
    "pycharm": {
     "name": "#%% md\n"
    }
   }
  },
  {
   "cell_type": "code",
   "execution_count": 18,
   "outputs": [
    {
     "data": {
      "text/plain": "[<Element tr at 0x2d85ba836f0>,\n <Element tr at 0x2d85ba833d0>,\n <Element tr at 0x2d85ba835b0>,\n <Element tr at 0x2d85baadbc0>,\n <Element tr at 0x2d85baae570>,\n <Element tr at 0x2d85baae5c0>,\n <Element tr at 0x2d85baae660>,\n <Element tr at 0x2d85baae6b0>,\n <Element tr at 0x2d85baae110>,\n <Element tr at 0x2d85baae340>,\n <Element tr at 0x2d85baae2a0>]"
     },
     "execution_count": 18,
     "metadata": {},
     "output_type": "execute_result"
    }
   ],
   "source": [
    "from lxml import html\n",
    "import requests\n",
    "\n",
    "page_html = requests.get('http://localhost:8080/planets.html').text\n",
    "\n",
    "# Carregando o Html no lxml etree\n",
    "\n",
    "tree = html.fromstring(page_html)\n",
    "\n",
    "\n",
    "[tr for tr in tree.xpath(\"/html/body/div/table/tr\")]"
   ],
   "metadata": {
    "collapsed": false,
    "pycharm": {
     "name": "#%%\n"
    }
   }
  },
  {
   "cell_type": "code",
   "execution_count": 20,
   "outputs": [
    {
     "data": {
      "text/plain": "[b'<tr id=\"planetHeader\">&#13;\\n                <th>&#',\n b'<tr id=\"planet1\" class=\"planet\" name=\"Mercury\">&#1',\n b'<tr id=\"planet2\" class=\"planet\" name=\"Venus\">&#13;',\n b'<tr id=\"planet3\" class=\"planet\" name=\"Earth\">&#13;',\n b'<tr id=\"planet4\" class=\"planet\" name=\"Mars\">&#13;\\n',\n b'<tr id=\"planet5\" class=\"planet\" name=\"Jupiter\">&#1',\n b'<tr id=\"planet6\" class=\"planet\" name=\"Saturn\">&#13',\n b'<tr id=\"planet7\" class=\"planet\" name=\"Uranus\">&#13',\n b'<tr id=\"planet8\" class=\"planet\" name=\"Neptune\">&#1',\n b'<tr id=\"planet9\" class=\"planet\" name=\"Pluto\">&#13;',\n b'<tr id=\"footerRow\">&#13;\\n                <td>&#13;']"
     },
     "execution_count": 20,
     "metadata": {},
     "output_type": "execute_result"
    }
   ],
   "source": [
    "from lxml import etree\n",
    "[etree.tostring(tr)[:50] for tr in tree.xpath('/html/body/div/table/tr')]"
   ],
   "metadata": {
    "collapsed": false,
    "pycharm": {
     "name": "#%%\n"
    }
   }
  },
  {
   "cell_type": "code",
   "execution_count": 21,
   "outputs": [
    {
     "data": {
      "text/plain": "[b'<tr id=\"planet1\" class=\"planet\" name=\"Mercury\">&#1',\n b'<tr id=\"planet2\" class=\"planet\" name=\"Venus\">&#13;',\n b'<tr id=\"planet3\" class=\"planet\" name=\"Earth\">&#13;',\n b'<tr id=\"planet4\" class=\"planet\" name=\"Mars\">&#13;\\n',\n b'<tr id=\"planet5\" class=\"planet\" name=\"Jupiter\">&#1',\n b'<tr id=\"planet6\" class=\"planet\" name=\"Saturn\">&#13',\n b'<tr id=\"planet7\" class=\"planet\" name=\"Uranus\">&#13',\n b'<tr id=\"planet8\" class=\"planet\" name=\"Neptune\">&#1',\n b'<tr id=\"planet9\" class=\"planet\" name=\"Pluto\">&#13;']"
     },
     "execution_count": 21,
     "metadata": {},
     "output_type": "execute_result"
    }
   ],
   "source": [
    "[etree.tostring(tr)[:50] for tr in tree.xpath(\"/html/body/div/table/tr[@class='planet']\")] # Capturando apenas os valores de Planetas."
   ],
   "metadata": {
    "collapsed": false,
    "pycharm": {
     "name": "#%%\n"
    }
   }
  },
  {
   "cell_type": "code",
   "execution_count": 23,
   "outputs": [
    {
     "data": {
      "text/plain": "[b'<tr id=\"planetHeader\">&#13;\\n                <th>&#',\n b'<tr id=\"planet1\" class=\"planet\" name=\"Mercury\">&#1',\n b'<tr id=\"planet2\" class=\"planet\" name=\"Venus\">&#13;',\n b'<tr id=\"planet3\" class=\"planet\" name=\"Earth\">&#13;',\n b'<tr id=\"planet4\" class=\"planet\" name=\"Mars\">&#13;\\n',\n b'<tr id=\"planet5\" class=\"planet\" name=\"Jupiter\">&#1',\n b'<tr id=\"planet6\" class=\"planet\" name=\"Saturn\">&#13',\n b'<tr id=\"planet7\" class=\"planet\" name=\"Uranus\">&#13',\n b'<tr id=\"planet8\" class=\"planet\" name=\"Neptune\">&#1',\n b'<tr id=\"planet9\" class=\"planet\" name=\"Pluto\">&#13;']"
     },
     "execution_count": 23,
     "metadata": {},
     "output_type": "execute_result"
    }
   ],
   "source": [
    "[etree.tostring(tr)[:50] for tr in tree.xpath(\"/html/body/div[1]/table/tr\")] # Capturando apenas os valores da 1ª Div."
   ],
   "metadata": {
    "collapsed": false,
    "pycharm": {
     "name": "#%%\n"
    }
   }
  },
  {
   "cell_type": "code",
   "execution_count": 24,
   "outputs": [
    {
     "data": {
      "text/plain": "[b'<tr id=\"footerRow\">&#13;\\n                <td>&#13;']"
     },
     "execution_count": 24,
     "metadata": {},
     "output_type": "execute_result"
    }
   ],
   "source": [
    "[etree.tostring(tr)[:50] for tr in tree.xpath(\"/html/body/div[2]/table/tr\")] # Capturando apenas os valores da 2ª Div."
   ],
   "metadata": {
    "collapsed": false,
    "pycharm": {
     "name": "#%%\n"
    }
   }
  },
  {
   "cell_type": "markdown",
   "source": [
    "A 1ª \\<div> neste documento é também um atributo:\n",
    "\n",
    " `<div id=\"planets\">`\n"
   ],
   "metadata": {
    "collapsed": false,
    "pycharm": {
     "name": "#%% md\n"
    }
   }
  },
  {
   "cell_type": "code",
   "execution_count": 30,
   "outputs": [
    {
     "data": {
      "text/plain": "[b'<tr id=\"planetHeader\">&#13;\\n                <th>&#',\n b'<tr id=\"planet1\" class=\"planet\" name=\"Mercury\">&#1',\n b'<tr id=\"planet2\" class=\"planet\" name=\"Venus\">&#13;',\n b'<tr id=\"planet3\" class=\"planet\" name=\"Earth\">&#13;',\n b'<tr id=\"planet4\" class=\"planet\" name=\"Mars\">&#13;\\n',\n b'<tr id=\"planet5\" class=\"planet\" name=\"Jupiter\">&#1',\n b'<tr id=\"planet6\" class=\"planet\" name=\"Saturn\">&#13',\n b'<tr id=\"planet7\" class=\"planet\" name=\"Uranus\">&#13',\n b'<tr id=\"planet8\" class=\"planet\" name=\"Neptune\">&#1',\n b'<tr id=\"planet9\" class=\"planet\" name=\"Pluto\">&#13;']"
     },
     "execution_count": 30,
     "metadata": {},
     "output_type": "execute_result"
    }
   ],
   "source": [
    "[etree.tostring(tr)[:50] for tr in tree.xpath(\"/html/body/div[@id='planets']/table/tr\")]"
   ],
   "metadata": {
    "collapsed": false,
    "pycharm": {
     "name": "#%%\n"
    }
   }
  },
  {
   "cell_type": "code",
   "execution_count": 31,
   "outputs": [
    {
     "data": {
      "text/plain": "[b'<tr id=\"planet1\" class=\"planet\" name=\"Mercury\">&#1',\n b'<tr id=\"planet2\" class=\"planet\" name=\"Venus\">&#13;',\n b'<tr id=\"planet3\" class=\"planet\" name=\"Earth\">&#13;',\n b'<tr id=\"planet4\" class=\"planet\" name=\"Mars\">&#13;\\n',\n b'<tr id=\"planet5\" class=\"planet\" name=\"Jupiter\">&#1',\n b'<tr id=\"planet6\" class=\"planet\" name=\"Saturn\">&#13',\n b'<tr id=\"planet7\" class=\"planet\" name=\"Uranus\">&#13',\n b'<tr id=\"planet8\" class=\"planet\" name=\"Neptune\">&#1',\n b'<tr id=\"planet9\" class=\"planet\" name=\"Pluto\">&#13;']"
     },
     "execution_count": 31,
     "metadata": {},
     "output_type": "execute_result"
    }
   ],
   "source": [
    "# Podemos excluir linhas utilizando !=\n",
    "\n",
    "[etree.tostring(tr)[:50] for tr in tree.xpath(\"/html/body/div[@id='planets']/table/tr[@id!='planetHeader']\")]"
   ],
   "metadata": {
    "collapsed": false,
    "pycharm": {
     "name": "#%%\n"
    }
   }
  },
  {
   "cell_type": "code",
   "execution_count": 34,
   "outputs": [
    {
     "data": {
      "text/plain": "[b'<tr id=\"planet1\" class=\"planet\" name=\"Mercury\">&#1',\n b'<tr id=\"planet2\" class=\"planet\" name=\"Venus\">&#13;',\n b'<tr id=\"planet3\" class=\"planet\" name=\"Earth\">&#13;',\n b'<tr id=\"planet4\" class=\"planet\" name=\"Mars\">&#13;\\n',\n b'<tr id=\"planet5\" class=\"planet\" name=\"Jupiter\">&#1',\n b'<tr id=\"planet6\" class=\"planet\" name=\"Saturn\">&#13',\n b'<tr id=\"planet7\" class=\"planet\" name=\"Uranus\">&#13',\n b'<tr id=\"planet8\" class=\"planet\" name=\"Neptune\">&#1',\n b'<tr id=\"planet9\" class=\"planet\" name=\"Pluto\">&#13;']"
     },
     "execution_count": 34,
     "metadata": {},
     "output_type": "execute_result"
    }
   ],
   "source": [
    "# Caso não tenhamos atributos ou cabeçados de linhas podemos utilizar a posição [position()]\n",
    "\n",
    "[etree.tostring(tr)[:50] for tr in tree.xpath(\"/html/body/div[@id='planets']/table/tr[position() >1]\")]\n",
    "\n",
    "# Selecionado pela posição pulando a 1ª linha."
   ],
   "metadata": {
    "collapsed": false,
    "pycharm": {
     "name": "#%%\n"
    }
   }
  },
  {
   "cell_type": "code",
   "execution_count": 35,
   "outputs": [
    {
     "data": {
      "text/plain": "[b'<table id=\"planetsTable\" border=\"1\">&#13;\\n        ',\n b'<table id=\"footerTable\">&#13;\\n            <tr id=\"']"
     },
     "execution_count": 35,
     "metadata": {},
     "output_type": "execute_result"
    }
   ],
   "source": [
    "# É possivel navegar pelos \"pais\" usando [parent::*]\n",
    "\n",
    "[etree.tostring(tr)[:50] for tr in tree.xpath(\"/html/body/div/table/tr/parent::*\")]"
   ],
   "metadata": {
    "collapsed": false,
    "pycharm": {
     "name": "#%%\n"
    }
   }
  },
  {
   "cell_type": "code",
   "execution_count": 39,
   "outputs": [
    {
     "data": {
      "text/plain": "[b'<table id=\"planetsTable\" border=\"1\">&#13;\\n        ',\n b'<table id=\"footerTable\">&#13;\\n            <tr id=\"']"
     },
     "execution_count": 39,
     "metadata": {},
     "output_type": "execute_result"
    }
   ],
   "source": [
    "# * é um caracter coringa que retorna todos os pais. Podemos ser mais específicos nomeando o elemento.\n",
    "\n",
    "[etree.tostring(tr)[:50] for tr in tree.xpath(\"/html/body/div/table/tr/parent::table\")] # Nomeando o TABLE"
   ],
   "metadata": {
    "collapsed": false,
    "pycharm": {
     "name": "#%%\n"
    }
   }
  },
  {
   "cell_type": "code",
   "execution_count": 43,
   "outputs": [
    {
     "data": {
      "text/plain": "[b'<table id=\"planetsTable\" border=\"1\">&#13;\\n        ',\n b'<table id=\"footerTable\">&#13;\\n            <tr id=\"']"
     },
     "execution_count": 43,
     "metadata": {},
     "output_type": "execute_result"
    }
   ],
   "source": [
    "# o atalho para acessar os pais é [..]\n",
    "# Para acessar o nó corrente é [.]\n",
    "\n",
    "[etree.tostring(tr)[:50] for tr in tree.xpath(\"/html/body/div/table/tr/..\")]"
   ],
   "metadata": {
    "collapsed": false,
    "pycharm": {
     "name": "#%%\n"
    }
   }
  },
  {
   "cell_type": "code",
   "execution_count": 76,
   "outputs": [
    {
     "data": {
      "text/plain": "'5.97'"
     },
     "execution_count": 76,
     "metadata": {},
     "output_type": "execute_result"
    }
   ],
   "source": [
    "# Encontrando a massa da Terra:\n",
    "\n",
    "mass = tree.xpath(\"/html/body/div[1]/table/tr[@name='Earth']/td[3]/text()[1]\")[0].strip()\n",
    "mass"
   ],
   "metadata": {
    "collapsed": false,
    "pycharm": {
     "name": "#%%\n"
    }
   }
  },
  {
   "cell_type": "markdown",
   "source": [
    "<h3>Consultando dados com seletores XPath e CSS</h3>\n",
    "\n",
    "* todas as tags: *\n",
    "* Uma específica tag (por exemplo, `tr`):   .planet\n",
    "* Uma classe (por exemplo, `planet`): tr.planet\n",
    "* Uma tag com `id` \"`planet3`\": tr#planet3\n",
    "* Um filho `tr` da tabela: table tr\n",
    "* Um descendente `tr`da tabela: table tr\n",
    "* Uma tag com um atributo (que é `tr`, com `id=\"planet4\"`): a[id=Mars]"
   ],
   "metadata": {
    "collapsed": false,
    "pycharm": {
     "name": "#%% md\n"
    }
   }
  },
  {
   "cell_type": "code",
   "execution_count": 77,
   "outputs": [],
   "source": [
    "from lxml import html\n",
    "import requests\n",
    "\n",
    "page_html = requests.get(\"http://localhost:8080/planets.html\").text\n",
    "tree = html.fromstring(page_html)"
   ],
   "metadata": {
    "collapsed": false,
    "pycharm": {
     "name": "#%%\n"
    }
   }
  },
  {
   "cell_type": "code",
   "execution_count": 80,
   "outputs": [
    {
     "data": {
      "text/plain": "[(<Element tr at 0x2d85b9fbfb0>, ['Mercury']),\n (<Element tr at 0x2d85bb09f30>, ['Venus']),\n (<Element tr at 0x2d85babbb50>, ['Earth']),\n (<Element tr at 0x2d85baaf2e0>, ['Mars']),\n (<Element tr at 0x2d85ba67b50>, ['Jupiter']),\n (<Element tr at 0x2d85bb3fba0>, ['Saturn']),\n (<Element tr at 0x2d85bb659e0>, ['Uranus']),\n (<Element tr at 0x2d85bb65a80>, ['Neptune']),\n (<Element tr at 0x2d85bb65300>, ['Pluto'])]"
     },
     "execution_count": 80,
     "metadata": {},
     "output_type": "execute_result"
    }
   ],
   "source": [
    "# todos os elementos <tr> da class='planet'\n",
    "[(v, v.xpath(\"@name\")) for v in tree.cssselect('tr.planet')]"
   ],
   "metadata": {
    "collapsed": false,
    "pycharm": {
     "name": "#%%\n"
    }
   }
  },
  {
   "cell_type": "code",
   "execution_count": 87,
   "outputs": [
    {
     "data": {
      "text/plain": "(<Element tr at 0x2d85babbb50>, 'Earth')"
     },
     "execution_count": 87,
     "metadata": {},
     "output_type": "execute_result"
    }
   ],
   "source": [
    "# O valor Earth pode ser encontrado de várias formas.\n",
    "\n",
    "tr = tree.cssselect(\"tr#planet3\")\n",
    "tr[0], tr[0].xpath(\"./td[2]/text()\")[0].strip()"
   ],
   "metadata": {
    "collapsed": false,
    "pycharm": {
     "name": "#%%\n"
    }
   }
  },
  {
   "cell_type": "code",
   "execution_count": 89,
   "outputs": [
    {
     "data": {
      "text/plain": "(<Element tr at 0x2d85bb65300>, 'Pluto')"
     },
     "execution_count": 89,
     "metadata": {},
     "output_type": "execute_result"
    }
   ],
   "source": [
    "# Usar um atributo com valor específico\n",
    "tr = tree.cssselect(\"tr[name='Pluto']\") # Diferente do XPath não há necessidade de utilizar o @\n",
    "tr[0], tr[0].xpath(\"./td[2]/text()\")[0].strip()"
   ],
   "metadata": {
    "collapsed": false,
    "pycharm": {
     "name": "#%%\n"
    }
   }
  },
  {
   "cell_type": "markdown",
   "source": [
    "<h3>Usando selectores Scrapy</h3>"
   ],
   "metadata": {
    "collapsed": false,
    "pycharm": {
     "name": "#%% md\n"
    }
   }
  },
  {
   "cell_type": "code",
   "execution_count": 92,
   "outputs": [
    {
     "data": {
      "text/plain": "<Selector xpath=None data='<html class=\"html__responsive \" lang=...'>"
     },
     "execution_count": 92,
     "metadata": {},
     "output_type": "execute_result"
    }
   ],
   "source": [
    "from scrapy.selector import Selector\n",
    "import requests\n",
    "\n",
    "response = requests.get(\"https://stackoverflow.com/questions\")\n",
    "selector = Selector(response)\n",
    "selector"
   ],
   "metadata": {
    "collapsed": false,
    "pycharm": {
     "name": "#%%\n"
    }
   }
  },
  {
   "cell_type": "code",
   "execution_count": 124,
   "outputs": [
    {
     "data": {
      "text/plain": "[<Selector xpath='//div[@class]/h3' data='<h3 class=\"flex--item\">\\r\\n            ...'>,\n <Selector xpath='//div[@class]/h3' data='<h3>\\r\\nyour communities            </h3>'>,\n <Selector xpath='//div[@class]/h3' data='<h3><a href=\"https://stackexchange.co...'>,\n <Selector xpath='//div[@class]/h3' data='<h3 class=\"s-post-summary--content-ti...'>,\n <Selector xpath='//div[@class]/h3' data='<h3 class=\"s-post-summary--content-ti...'>]"
     },
     "execution_count": 124,
     "metadata": {},
     "output_type": "execute_result"
    }
   ],
   "source": [
    "classes = selector.xpath('//div[@class]/h3')\n",
    "classes[0:5]"
   ],
   "metadata": {
    "collapsed": false,
    "pycharm": {
     "name": "#%%\n"
    }
   }
  }
 ],
 "metadata": {
  "kernelspec": {
   "display_name": "Python 3",
   "language": "python",
   "name": "python3"
  },
  "language_info": {
   "codemirror_mode": {
    "name": "ipython",
    "version": 2
   },
   "file_extension": ".py",
   "mimetype": "text/x-python",
   "name": "python",
   "nbconvert_exporter": "python",
   "pygments_lexer": "ipython2",
   "version": "2.7.6"
  }
 },
 "nbformat": 4,
 "nbformat_minor": 0
}