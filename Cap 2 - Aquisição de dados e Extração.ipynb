{
 "cells": [
  {
   "cell_type": "markdown",
   "source": [
    "<h1 align= center>Aquisição de Dados e Extração</h1>\n",
    "<p align= center><img src=https://www.bmr.it/bmr18/bmr-cont/uploads/2018/08/software.png width=500></p>"
   ],
   "metadata": {
    "collapsed": false,
    "pycharm": {
     "name": "#%% md\n"
    }
   }
  },
  {
   "cell_type": "markdown",
   "source": [
    "## How to parse websites and navigate the DOM using BeautifulSoup"
   ],
   "metadata": {
    "collapsed": false,
    "pycharm": {
     "name": "#%% md\n"
    }
   }
  },
  {
   "cell_type": "code",
   "execution_count": 2,
   "outputs": [],
   "source": [
    "import requests\n",
    "from bs4 import BeautifulSoup\n",
    "\n",
    "html = requests.get('http://localhost:8080/planets.html').text\n",
    "\n",
    "soup = BeautifulSoup(html, 'lxml')"
   ],
   "metadata": {
    "collapsed": false,
    "pycharm": {
     "name": "#%%\n"
    }
   }
  },
  {
   "cell_type": "code",
   "execution_count": 7,
   "outputs": [
    {
     "data": {
      "text/plain": "<tr id=\"planetHeader\">\n<th>\n</th>\n<th>\n                    Name\n                </th>\n<th>\n                    Mass (10^24kg)\n                </th>\n<th>\n                    Diameter (km)\n                </th>\n<th>\n                    How it got its Name\n                </th>\n<th>\n                    More Info\n                </th>\n</tr>"
     },
     "execution_count": 7,
     "metadata": {},
     "output_type": "execute_result"
    }
   ],
   "source": [
    "soup.html.body.div.tr"
   ],
   "metadata": {
    "collapsed": false,
    "pycharm": {
     "name": "#%%\n"
    }
   }
  },
  {
   "cell_type": "code",
   "execution_count": 8,
   "outputs": [
    {
     "data": {
      "text/plain": "<list_iterator at 0x2073a5add80>"
     },
     "execution_count": 8,
     "metadata": {},
     "output_type": "execute_result"
    }
   ],
   "source": [
    "soup.html.body.div.table.children"
   ],
   "metadata": {
    "collapsed": false,
    "pycharm": {
     "name": "#%%\n"
    }
   }
  },
  {
   "cell_type": "code",
   "execution_count": 9,
   "outputs": [
    {
     "data": {
      "text/plain": "['\\n',\n '<tr id=\"planetHeader\">\\n<th>\\n</th>\\n<th>\\r\\n     ',\n '\\n',\n '<tr class=\"planet\" id=\"planet1\" name=\"Mercury',\n '\\n',\n '<tr class=\"planet\" id=\"planet2\" name=\"Venus\">',\n '\\n',\n '<tr class=\"planet\" id=\"planet3\" name=\"Earth\">',\n '\\n',\n '<tr class=\"planet\" id=\"planet4\" name=\"Mars\">\\n',\n '\\n',\n '<tr class=\"planet\" id=\"planet5\" name=\"Jupiter',\n '\\n',\n '<tr class=\"planet\" id=\"planet6\" name=\"Saturn\"',\n '\\n',\n '<tr class=\"planet\" id=\"planet7\" name=\"Uranus\"',\n '\\n',\n '<tr class=\"planet\" id=\"planet8\" name=\"Neptune',\n '\\n',\n '<tr class=\"planet\" id=\"planet9\" name=\"Pluto\">',\n '\\n']"
     },
     "execution_count": 9,
     "metadata": {},
     "output_type": "execute_result"
    }
   ],
   "source": [
    "# Usando uma lista de List Comphresion\n",
    "[ str(c)[:45] for c in soup.html.body.div.table.children]"
   ],
   "metadata": {
    "collapsed": false,
    "pycharm": {
     "name": "#%%\n"
    }
   }
  },
  {
   "cell_type": "code",
   "execution_count": 12,
   "outputs": [
    {
     "data": {
      "text/plain": "'<table border=\"1\" id=\"planetsTable\">\\n<tr id=\"planetHeader\">\\n<th>\\n</th>\\n<th>\\r\\n                    Name\\r\\n                </th>\\n<th>\\r\\n                    Mass (10^24kg)\\r\\n                </th>\\n<th>\\r\\n     '"
     },
     "execution_count": 12,
     "metadata": {},
     "output_type": "execute_result"
    }
   ],
   "source": [
    "# utilizando o .parent (Pais)\n",
    "\n",
    "str(soup.html.body.div.table.tr.parent)[:200]"
   ],
   "metadata": {
    "collapsed": false,
    "pycharm": {
     "name": "#%%\n"
    }
   }
  },
  {
   "cell_type": "markdown",
   "source": [
    "## Searching the DOM with Beautiful Soup's find methods"
   ],
   "metadata": {
    "collapsed": false,
    "pycharm": {
     "name": "#%% md\n"
    }
   }
  },
  {
   "cell_type": "code",
   "execution_count": 16,
   "outputs": [
    {
     "data": {
      "text/plain": "'<table border=\"1\" id=\"planetsTable\">\\n<tr id=\"planetHeader\">\\n<th>\\n</th>\\n<th>\\r\\n                    Nam'"
     },
     "execution_count": 16,
     "metadata": {},
     "output_type": "execute_result"
    }
   ],
   "source": [
    "table = soup.find('table')\n",
    "str(table)[:100]"
   ],
   "metadata": {
    "collapsed": false,
    "pycharm": {
     "name": "#%%\n"
    }
   }
  },
  {
   "cell_type": "code",
   "execution_count": 19,
   "outputs": [
    {
     "data": {
      "text/plain": "['<tr id=\"planetHeader\">\\n<th>\\n</th>\\n<th>\\r\\n          ',\n '<tr class=\"planet\" id=\"planet1\" name=\"Mercury\">\\n<t',\n '<tr class=\"planet\" id=\"planet2\" name=\"Venus\">\\n<td>',\n '<tr class=\"planet\" id=\"planet3\" name=\"Earth\">\\n<td>',\n '<tr class=\"planet\" id=\"planet4\" name=\"Mars\">\\n<td>\\n',\n '<tr class=\"planet\" id=\"planet5\" name=\"Jupiter\">\\n<t',\n '<tr class=\"planet\" id=\"planet6\" name=\"Saturn\">\\n<td',\n '<tr class=\"planet\" id=\"planet7\" name=\"Uranus\">\\n<td',\n '<tr class=\"planet\" id=\"planet8\" name=\"Neptune\">\\n<t',\n '<tr class=\"planet\" id=\"planet9\" name=\"Pluto\">\\n<td>']"
     },
     "execution_count": 19,
     "metadata": {},
     "output_type": "execute_result"
    }
   ],
   "source": [
    "[str(tr)[:50] for tr in table.findAll('tr')]"
   ],
   "metadata": {
    "collapsed": false,
    "pycharm": {
     "name": "#%%\n"
    }
   }
  },
  {
   "cell_type": "code",
   "execution_count": 20,
   "outputs": [
    {
     "data": {
      "text/plain": "<tr class=\"planet\" id=\"planet3\" name=\"Earth\">\n<td>\n<img src=\"img/earth-150x150.png\"/>\n</td>\n<td>\n                    Earth\n                </td>\n<td>\n                    5.97\n                </td>\n<td>\n                    12756\n                </td>\n<td>\n                    The name Earth comes from the Indo-European base 'er,'which produced the Germanic noun 'ertho,' and ultimately German 'erde,' Dutch 'aarde,' Scandinavian 'jord,' and English 'earth.' Related forms include Greek 'eraze,' meaning 'on the ground,' and Welsh 'erw,' meaning 'a piece of land.'\n                </td>\n<td>\n<a href=\"https://en.wikipedia.org/wiki/Earth\">Wikipedia</a>\n</td>\n</tr>"
     },
     "execution_count": 20,
     "metadata": {},
     "output_type": "execute_result"
    }
   ],
   "source": [
    "table.find(\"tr\", {\"id\": \"planet3\"})"
   ],
   "metadata": {
    "collapsed": false,
    "pycharm": {
     "name": "#%%\n"
    }
   }
  },
  {
   "cell_type": "code",
   "execution_count": 23,
   "outputs": [
    {
     "data": {
      "text/plain": "{'Mercury': '0.330',\n 'Venus': '4.87',\n 'Earth': '5.97',\n 'Mars': '0.642',\n 'Jupiter': '1898',\n 'Saturn': '568',\n 'Uranus': '86.8',\n 'Neptune': '102',\n 'Pluto': '0.0146'}"
     },
     "execution_count": 23,
     "metadata": {},
     "output_type": "execute_result"
    }
   ],
   "source": [
    "items = dict()\n",
    "planet_rows = table.findAll('tr', {'class': 'planet'})\n",
    "for i in planet_rows:\n",
    "\ttds = i.findAll('td')\n",
    "\titems[tds[1].text.strip()] = tds[2].text.strip()\n",
    "\n",
    "items"
   ],
   "metadata": {
    "collapsed": false,
    "pycharm": {
     "name": "#%%\n"
    }
   }
  },
  {
   "cell_type": "markdown",
   "source": [
    "## Querying the DOM with XPath and lxml"
   ],
   "metadata": {
    "collapsed": false,
    "pycharm": {
     "name": "#%% md\n"
    }
   }
  }
 ],
 "metadata": {
  "kernelspec": {
   "display_name": "Python 3",
   "language": "python",
   "name": "python3"
  },
  "language_info": {
   "codemirror_mode": {
    "name": "ipython",
    "version": 2
   },
   "file_extension": ".py",
   "mimetype": "text/x-python",
   "name": "python",
   "nbconvert_exporter": "python",
   "pygments_lexer": "ipython2",
   "version": "2.7.6"
  }
 },
 "nbformat": 4,
 "nbformat_minor": 0
}