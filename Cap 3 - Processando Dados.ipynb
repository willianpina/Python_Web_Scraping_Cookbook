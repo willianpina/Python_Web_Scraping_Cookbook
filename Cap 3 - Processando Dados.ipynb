{
 "cells": [
  {
   "cell_type": "markdown",
   "source": [
    "<h1 align=center> Processando Dados</h1>\n",
    "<p align=center><img src=\"https://img.freepik.com/vetores-premium/a-plataforma-esta-processando-dados-por-maquina_18660-693.jpg?w=2000\" width=500></p>"
   ],
   "metadata": {
    "collapsed": false,
    "pycharm": {
     "name": "#%% md\n"
    }
   }
  },
  {
   "cell_type": "markdown",
   "source": [
    "<h3>Trabalhando com dados CSV e JSON </h3>"
   ],
   "metadata": {
    "collapsed": false,
    "pycharm": {
     "name": "#%% md\n"
    }
   }
  },
  {
   "cell_type": "code",
   "execution_count": 2,
   "outputs": [
    {
     "name": "stdout",
     "output_type": "stream",
     "text": [
      "[{'Name': 'Mercury', 'Mass': '0.330', 'Radius': '4879', 'Description': 'Named Mercurius by the Romans because it appears to move so swiftly.', 'MoreInfo': 'https://en.wikipedia.org/wiki/Mercury_(planet)'}, {'Name': 'Venus', 'Mass': '4.87', 'Radius': '12104', 'Description': 'Roman name for the goddess of love. This planet was considered to be the brightest and most beautiful planet or star in the heavens. Other civilizations have named it for their god or goddess of love/war.', 'MoreInfo': 'https://en.wikipedia.org/wiki/Venus'}, {'Name': 'Earth', 'Mass': '5.97', 'Radius': '12756', 'Description': \"The name Earth comes from the Indo-European base 'er,'which produced the Germanic noun 'ertho,' and ultimately German 'erde,' Dutch 'aarde,' Scandinavian 'jord,' and English 'earth.' Related forms include Greek 'eraze,' meaning 'on the ground,' and Welsh 'erw,' meaning 'a piece of land.'\", 'MoreInfo': 'https://en.wikipedia.org/wiki/Earth'}, {'Name': 'Mars', 'Mass': '0.642', 'Radius': '6792', 'Description': 'Named by the Romans for their god of war because of its red, bloodlike color. Other civilizations also named this planet from this attribute; for example, the Egyptians named it \"Her Desher,\" meaning \"the red one.\"', 'MoreInfo': 'https://en.wikipedia.org/wiki/Mars'}, {'Name': 'Jupiter', 'Mass': '1898', 'Radius': '142984', 'Description': 'The largest and most massive of the planets was named Zeus by the Greeks and Jupiter by the Romans; he was the most important deity in both pantheons.', 'MoreInfo': 'https://en.wikipedia.org/wiki/Jupiter'}, {'Name': 'Saturn', 'Mass': '568', 'Radius': '120536', 'Description': 'Roman name for the Greek Cronos, father of Zeus/Jupiter. Other civilizations have given different names to Saturn, which is the farthest planet from Earth that can be observed by the naked human eye. Most of its satellites were named for Titans who, according to Greek mythology, were brothers and sisters of Saturn.', 'MoreInfo': 'https://en.wikipedia.org/wiki/Saturn'}, {'Name': 'Uranus', 'Mass': '86.8', 'Radius': '51118', 'Description': 'Several astronomers, including Flamsteed and Le Monnier, had observed Uranus earlier but had recorded it as a fixed star. Herschel tried unsuccessfully to name his discovery \"Georgian Sidus\" after George III; the planet was named by Johann Bode in 1781 after the ancient Greek deity of the sky Uranus, the father of Kronos (Saturn) and grandfather of Zeus (Jupiter).', 'MoreInfo': 'https://en.wikipedia.org/wiki/Uranus'}, {'Name': 'Neptune', 'Mass': '102', 'Radius': '49528', 'Description': 'Neptune was \"predicted\" by John Couch Adams and Urbain Le Verrier who, independently, were able to account for the irregularities in the motion of Uranus by correctly predicting the orbital elements of a trans- Uranian body. Using the predicted parameters of Le Verrier (Adams never published his predictions), Johann Galle observed the planet in 1846. Galle wanted to name the planet for Le Verrier, but that was not acceptable to the international astronomical community. Instead, this planet is named for the Roman god of the sea.', 'MoreInfo': 'https://en.wikipedia.org/wiki/Neptune'}, {'Name': 'Pluto', 'Mass': '0.0146', 'Radius': '2370', 'Description': 'Pluto was discovered at Lowell Observatory in Flagstaff, AZ during a systematic search for a trans-Neptune planet predicted by Percival Lowell and William H. Pickering. Named after the Roman god of the underworld who was able to render himself invisible.', 'MoreInfo': 'https://en.wikipedia.org/wiki/Pluto'}]\n"
     ]
    }
   ],
   "source": [
    "import requests\n",
    "from bs4 import BeautifulSoup\n",
    "\n",
    "def get_planet_data():\n",
    "    html = requests.get(\"http://localhost:8080/planets.html\").text\n",
    "    soup = BeautifulSoup(html, \"lxml\")\n",
    "    planet_trs = soup.html.body.div.table.findAll(\"tr\", {\"class\": \"planet\"})\n",
    "\n",
    "    def to_dict(tr):\n",
    "        tds = tr.findAll(\"td\")\n",
    "        planet_data = dict()\n",
    "        planet_data['Name'] = tds[1].text.strip()\n",
    "        planet_data['Mass'] = tds[2].text.strip()\n",
    "        planet_data['Radius'] = tds[3].text.strip()\n",
    "        planet_data['Description'] = tds[4].text.strip()\n",
    "        planet_data['MoreInfo'] = tds[5].findAll(\"a\")[0][\"href\"].strip()\n",
    "        return planet_data\n",
    "\n",
    "    planets = [to_dict(tr) for tr in planet_trs]\n",
    "    return planets\n",
    "\n",
    "\n",
    "if __name__ == \"__main__\":\n",
    "    print(get_planet_data())\n"
   ],
   "metadata": {
    "collapsed": false,
    "pycharm": {
     "name": "#%%\n"
    }
   }
  },
  {
   "cell_type": "code",
   "execution_count": 3,
   "outputs": [],
   "source": [
    "# Converter em arquivo CSV\n",
    "\n",
    "import csv\n",
    "\n",
    "planets = get_planet_data()\n",
    "\n",
    "with open('planets.csv','w+', newline='') as csvfile:\n",
    "\twriter = csv.writer(csvfile)\n",
    "\twriter.writerow(['Name', 'Mass','Radius','Description','MoreInfo'])\n",
    "\tfor planet in planets:\n",
    "\t\twriter.writerow([planet['Name'],\n",
    "\t\t                 planet['Mass'],\n",
    "                         planet['Radius'],\n",
    "                         planet['Description'],\n",
    "                         planet['MoreInfo']\n",
    "\t\t                 ])\n"
   ],
   "metadata": {
    "collapsed": false,
    "pycharm": {
     "name": "#%%\n"
    }
   }
  },
  {
   "cell_type": "code",
   "execution_count": 4,
   "outputs": [
    {
     "name": "stdout",
     "output_type": "stream",
     "text": [
      "['Name', 'Mass', 'Radius', 'Description', 'MoreInfo']\n",
      "['Mercury', '0.330', '4879', 'Named Mercurius by the Romans because it appears to move so swiftly.', 'https://en.wikipedia.org/wiki/Mercury_(planet)']\n",
      "['Venus', '4.87', '12104', 'Roman name for the goddess of love. This planet was considered to be the brightest and most beautiful planet or star in the heavens. Other civilizations have named it for their god or goddess of love/war.', 'https://en.wikipedia.org/wiki/Venus']\n",
      "['Earth', '5.97', '12756', \"The name Earth comes from the Indo-European base 'er,'which produced the Germanic noun 'ertho,' and ultimately German 'erde,' Dutch 'aarde,' Scandinavian 'jord,' and English 'earth.' Related forms include Greek 'eraze,' meaning 'on the ground,' and Welsh 'erw,' meaning 'a piece of land.'\", 'https://en.wikipedia.org/wiki/Earth']\n",
      "['Mars', '0.642', '6792', 'Named by the Romans for their god of war because of its red, bloodlike color. Other civilizations also named this planet from this attribute; for example, the Egyptians named it \"Her Desher,\" meaning \"the red one.\"', 'https://en.wikipedia.org/wiki/Mars']\n",
      "['Jupiter', '1898', '142984', 'The largest and most massive of the planets was named Zeus by the Greeks and Jupiter by the Romans; he was the most important deity in both pantheons.', 'https://en.wikipedia.org/wiki/Jupiter']\n",
      "['Saturn', '568', '120536', 'Roman name for the Greek Cronos, father of Zeus/Jupiter. Other civilizations have given different names to Saturn, which is the farthest planet from Earth that can be observed by the naked human eye. Most of its satellites were named for Titans who, according to Greek mythology, were brothers and sisters of Saturn.', 'https://en.wikipedia.org/wiki/Saturn']\n",
      "['Uranus', '86.8', '51118', 'Several astronomers, including Flamsteed and Le Monnier, had observed Uranus earlier but had recorded it as a fixed star. Herschel tried unsuccessfully to name his discovery \"Georgian Sidus\" after George III; the planet was named by Johann Bode in 1781 after the ancient Greek deity of the sky Uranus, the father of Kronos (Saturn) and grandfather of Zeus (Jupiter).', 'https://en.wikipedia.org/wiki/Uranus']\n",
      "['Neptune', '102', '49528', 'Neptune was \"predicted\" by John Couch Adams and Urbain Le Verrier who, independently, were able to account for the irregularities in the motion of Uranus by correctly predicting the orbital elements of a trans- Uranian body. Using the predicted parameters of Le Verrier (Adams never published his predictions), Johann Galle observed the planet in 1846. Galle wanted to name the planet for Le Verrier, but that was not acceptable to the international astronomical community. Instead, this planet is named for the Roman god of the sea.', 'https://en.wikipedia.org/wiki/Neptune']\n",
      "['Pluto', '0.0146', '2370', 'Pluto was discovered at Lowell Observatory in Flagstaff, AZ during a systematic search for a trans-Neptune planet predicted by Percival Lowell and William H. Pickering. Named after the Roman god of the underworld who was able to render himself invisible.', 'https://en.wikipedia.org/wiki/Pluto']\n"
     ]
    }
   ],
   "source": [
    "# Lendo os dados e armazenados em CSV e recuperando o conteúdo utilizando a Biblioteca REQUESTS\n",
    "\n",
    "import requests\n",
    "import csv\n",
    "\n",
    "planets_data = requests.get('http://localhost:8080/planets.csv').text\n",
    "planets = planets_data.split('\\n')\n",
    "reader = csv.reader(planets, delimiter=',', quotechar='\"')\n",
    "lines = [line for line in reader][:-1] # Porque a saída do CSV deixa a última linha em branco\n",
    "for line in lines:\n",
    "\tprint(line)"
   ],
   "metadata": {
    "collapsed": false,
    "pycharm": {
     "name": "#%%\n"
    }
   }
  },
  {
   "cell_type": "code",
   "execution_count": 5,
   "outputs": [
    {
     "data": {
      "text/plain": "              Mass  Radius                                        Description  \\\nName                                                                            \nMercury     0.3300    4879  Named Mercurius by the Romans because it appea...   \nVenus       4.8700   12104  Roman name for the goddess of love. This plane...   \nEarth       5.9700   12756  The name Earth comes from the Indo-European ba...   \nMars        0.6420    6792  Named by the Romans for their god of war becau...   \nJupiter  1898.0000  142984  The largest and most massive of the planets wa...   \nSaturn    568.0000  120536  Roman name for the Greek Cronos, father of Zeu...   \nUranus     86.8000   51118  Several astronomers, including Flamsteed and L...   \nNeptune   102.0000   49528  Neptune was \"predicted\" by John Couch Adams an...   \nPluto       0.0146    2370  Pluto was discovered at Lowell Observatory in ...   \n\n                                               MoreInfo  \nName                                                     \nMercury  https://en.wikipedia.org/wiki/Mercury_(planet)  \nVenus               https://en.wikipedia.org/wiki/Venus  \nEarth               https://en.wikipedia.org/wiki/Earth  \nMars                 https://en.wikipedia.org/wiki/Mars  \nJupiter           https://en.wikipedia.org/wiki/Jupiter  \nSaturn             https://en.wikipedia.org/wiki/Saturn  \nUranus             https://en.wikipedia.org/wiki/Uranus  \nNeptune           https://en.wikipedia.org/wiki/Neptune  \nPluto               https://en.wikipedia.org/wiki/Pluto  ",
      "text/html": "<div>\n<style scoped>\n    .dataframe tbody tr th:only-of-type {\n        vertical-align: middle;\n    }\n\n    .dataframe tbody tr th {\n        vertical-align: top;\n    }\n\n    .dataframe thead th {\n        text-align: right;\n    }\n</style>\n<table border=\"1\" class=\"dataframe\">\n  <thead>\n    <tr style=\"text-align: right;\">\n      <th></th>\n      <th>Mass</th>\n      <th>Radius</th>\n      <th>Description</th>\n      <th>MoreInfo</th>\n    </tr>\n    <tr>\n      <th>Name</th>\n      <th></th>\n      <th></th>\n      <th></th>\n      <th></th>\n    </tr>\n  </thead>\n  <tbody>\n    <tr>\n      <th>Mercury</th>\n      <td>0.3300</td>\n      <td>4879</td>\n      <td>Named Mercurius by the Romans because it appea...</td>\n      <td>https://en.wikipedia.org/wiki/Mercury_(planet)</td>\n    </tr>\n    <tr>\n      <th>Venus</th>\n      <td>4.8700</td>\n      <td>12104</td>\n      <td>Roman name for the goddess of love. This plane...</td>\n      <td>https://en.wikipedia.org/wiki/Venus</td>\n    </tr>\n    <tr>\n      <th>Earth</th>\n      <td>5.9700</td>\n      <td>12756</td>\n      <td>The name Earth comes from the Indo-European ba...</td>\n      <td>https://en.wikipedia.org/wiki/Earth</td>\n    </tr>\n    <tr>\n      <th>Mars</th>\n      <td>0.6420</td>\n      <td>6792</td>\n      <td>Named by the Romans for their god of war becau...</td>\n      <td>https://en.wikipedia.org/wiki/Mars</td>\n    </tr>\n    <tr>\n      <th>Jupiter</th>\n      <td>1898.0000</td>\n      <td>142984</td>\n      <td>The largest and most massive of the planets wa...</td>\n      <td>https://en.wikipedia.org/wiki/Jupiter</td>\n    </tr>\n    <tr>\n      <th>Saturn</th>\n      <td>568.0000</td>\n      <td>120536</td>\n      <td>Roman name for the Greek Cronos, father of Zeu...</td>\n      <td>https://en.wikipedia.org/wiki/Saturn</td>\n    </tr>\n    <tr>\n      <th>Uranus</th>\n      <td>86.8000</td>\n      <td>51118</td>\n      <td>Several astronomers, including Flamsteed and L...</td>\n      <td>https://en.wikipedia.org/wiki/Uranus</td>\n    </tr>\n    <tr>\n      <th>Neptune</th>\n      <td>102.0000</td>\n      <td>49528</td>\n      <td>Neptune was \"predicted\" by John Couch Adams an...</td>\n      <td>https://en.wikipedia.org/wiki/Neptune</td>\n    </tr>\n    <tr>\n      <th>Pluto</th>\n      <td>0.0146</td>\n      <td>2370</td>\n      <td>Pluto was discovered at Lowell Observatory in ...</td>\n      <td>https://en.wikipedia.org/wiki/Pluto</td>\n    </tr>\n  </tbody>\n</table>\n</div>"
     },
     "execution_count": 5,
     "metadata": {},
     "output_type": "execute_result"
    }
   ],
   "source": [
    "# Utilizar a biblioteca PANDAS é mais fácil\n",
    "\n",
    "import pandas as pd\n",
    "planets_df = pd.read_csv(\"http://localhost:8080/planets.csv\", index_col='Name')\n",
    "planets_df"
   ],
   "metadata": {
    "collapsed": false,
    "pycharm": {
     "name": "#%%\n"
    }
   }
  },
  {
   "cell_type": "code",
   "execution_count": 6,
   "outputs": [],
   "source": [
    "# Podemos adicionar em um DATAFRAME e depois exportar para CSV\n",
    "\n",
    "planets = get_planet_data()\n",
    "planets_df = pd.DataFrame(planets).set_index('Name')\n",
    "planets_df.to_csv('planets_pandas.csv')"
   ],
   "metadata": {
    "collapsed": false,
    "pycharm": {
     "name": "#%%\n"
    }
   }
  },
  {
   "cell_type": "code",
   "execution_count": 7,
   "outputs": [
    {
     "data": {
      "text/plain": "              Mass  Radius                                        Description  \\\nName                                                                            \nMercury     0.3300    4879  Named Mercurius by the Romans because it appea...   \nVenus       4.8700   12104  Roman name for the goddess of love. This plane...   \nEarth       5.9700   12756  The name Earth comes from the Indo-European ba...   \nMars        0.6420    6792  Named by the Romans for their god of war becau...   \nJupiter  1898.0000  142984  The largest and most massive of the planets wa...   \nSaturn    568.0000  120536  Roman name for the Greek Cronos, father of Zeu...   \nUranus     86.8000   51118  Several astronomers, including Flamsteed and L...   \nNeptune   102.0000   49528  Neptune was \"predicted\" by John Couch Adams an...   \nPluto       0.0146    2370  Pluto was discovered at Lowell Observatory in ...   \n\n                                               MoreInfo  \nName                                                     \nMercury  https://en.wikipedia.org/wiki/Mercury_(planet)  \nVenus               https://en.wikipedia.org/wiki/Venus  \nEarth               https://en.wikipedia.org/wiki/Earth  \nMars                 https://en.wikipedia.org/wiki/Mars  \nJupiter           https://en.wikipedia.org/wiki/Jupiter  \nSaturn             https://en.wikipedia.org/wiki/Saturn  \nUranus             https://en.wikipedia.org/wiki/Uranus  \nNeptune           https://en.wikipedia.org/wiki/Neptune  \nPluto               https://en.wikipedia.org/wiki/Pluto  ",
      "text/html": "<div>\n<style scoped>\n    .dataframe tbody tr th:only-of-type {\n        vertical-align: middle;\n    }\n\n    .dataframe tbody tr th {\n        vertical-align: top;\n    }\n\n    .dataframe thead th {\n        text-align: right;\n    }\n</style>\n<table border=\"1\" class=\"dataframe\">\n  <thead>\n    <tr style=\"text-align: right;\">\n      <th></th>\n      <th>Mass</th>\n      <th>Radius</th>\n      <th>Description</th>\n      <th>MoreInfo</th>\n    </tr>\n    <tr>\n      <th>Name</th>\n      <th></th>\n      <th></th>\n      <th></th>\n      <th></th>\n    </tr>\n  </thead>\n  <tbody>\n    <tr>\n      <th>Mercury</th>\n      <td>0.3300</td>\n      <td>4879</td>\n      <td>Named Mercurius by the Romans because it appea...</td>\n      <td>https://en.wikipedia.org/wiki/Mercury_(planet)</td>\n    </tr>\n    <tr>\n      <th>Venus</th>\n      <td>4.8700</td>\n      <td>12104</td>\n      <td>Roman name for the goddess of love. This plane...</td>\n      <td>https://en.wikipedia.org/wiki/Venus</td>\n    </tr>\n    <tr>\n      <th>Earth</th>\n      <td>5.9700</td>\n      <td>12756</td>\n      <td>The name Earth comes from the Indo-European ba...</td>\n      <td>https://en.wikipedia.org/wiki/Earth</td>\n    </tr>\n    <tr>\n      <th>Mars</th>\n      <td>0.6420</td>\n      <td>6792</td>\n      <td>Named by the Romans for their god of war becau...</td>\n      <td>https://en.wikipedia.org/wiki/Mars</td>\n    </tr>\n    <tr>\n      <th>Jupiter</th>\n      <td>1898.0000</td>\n      <td>142984</td>\n      <td>The largest and most massive of the planets wa...</td>\n      <td>https://en.wikipedia.org/wiki/Jupiter</td>\n    </tr>\n    <tr>\n      <th>Saturn</th>\n      <td>568.0000</td>\n      <td>120536</td>\n      <td>Roman name for the Greek Cronos, father of Zeu...</td>\n      <td>https://en.wikipedia.org/wiki/Saturn</td>\n    </tr>\n    <tr>\n      <th>Uranus</th>\n      <td>86.8000</td>\n      <td>51118</td>\n      <td>Several astronomers, including Flamsteed and L...</td>\n      <td>https://en.wikipedia.org/wiki/Uranus</td>\n    </tr>\n    <tr>\n      <th>Neptune</th>\n      <td>102.0000</td>\n      <td>49528</td>\n      <td>Neptune was \"predicted\" by John Couch Adams an...</td>\n      <td>https://en.wikipedia.org/wiki/Neptune</td>\n    </tr>\n    <tr>\n      <th>Pluto</th>\n      <td>0.0146</td>\n      <td>2370</td>\n      <td>Pluto was discovered at Lowell Observatory in ...</td>\n      <td>https://en.wikipedia.org/wiki/Pluto</td>\n    </tr>\n  </tbody>\n</table>\n</div>"
     },
     "execution_count": 7,
     "metadata": {},
     "output_type": "execute_result"
    }
   ],
   "source": [
    "# Para ler os Arquivos:\n",
    "\n",
    "planets_df= pd.read_csv(\"http://localhost:8080/planets_pandas.csv\", index_col='Name')\n",
    "planets_df"
   ],
   "metadata": {
    "collapsed": false,
    "pycharm": {
     "name": "#%%\n"
    }
   }
  },
  {
   "cell_type": "code",
   "execution_count": 9,
   "outputs": [
    {
     "name": "stdout",
     "output_type": "stream",
     "text": [
      "[\n",
      "    {\n",
      "        \"Name\": \"Mercury\",\n",
      "        \"Mass\": \"0.330\",\n",
      "        \"Radius\": \"4879\",\n",
      "        \"Description\": \"Named Mercurius by the Romans because it appears to move so swiftly.\",\n",
      "        \"MoreInfo\": \"https://en.wikipedia.org/wiki/Mercury_(planet)\"\n",
      "    },\n",
      "    {\n",
      "        \"Name\": \"Venus\",\n",
      "        \"Mass\": \"4.87\",\n",
      "        \"Radius\": \"12104\",\n",
      "        \"Description\": \"Roman name for the goddess of love. This planet was considered to be the brightest and most beautiful planet or star in the heavens. Other civilizations have named it for their god or goddess of love/war.\",\n",
      "        \"MoreInfo\": \"https://en.wikipedia.org/wiki/Venus\"\n",
      "    },\n",
      "    {\n",
      "        \"Name\": \"Earth\",\n",
      "        \"Mass\": \"5.97\",\n",
      "        \"Radius\": \"12756\",\n",
      "        \"Description\": \"The name Earth comes from the Indo-European base 'er,'which produced the Germanic noun 'ertho,' and ultimately German 'erde,' Dutch 'aarde,' Scandinavian 'jord,' and English 'earth.' Related forms include Greek 'eraze,' meaning 'on the ground,' and Welsh 'erw,' meaning 'a piece of land.'\",\n",
      "        \"MoreInfo\": \"https://en.wikipedia.org/wiki/Earth\"\n",
      "    },\n",
      "    {\n",
      "        \"Name\": \"Mars\",\n",
      "        \"Mass\": \"0.642\",\n",
      "        \"Radius\": \"6792\",\n",
      "        \"Description\": \"Named by the Romans for their god of war because of its red, bloodlike color. Other civilizations also named this planet from this attribute; for example, the Egyptians named it \\\"Her Desher,\\\" meaning \\\"the red one.\\\"\",\n",
      "        \"MoreInfo\": \"https://en.wikipedia.org/wiki/Mars\"\n",
      "    },\n",
      "    {\n",
      "        \"Name\": \"Jupiter\",\n",
      "        \"Mass\": \"1898\",\n",
      "        \"Radius\": \"142984\",\n",
      "        \"Description\": \"The largest and most massive of the planets was named Zeus by the Greeks and Jupiter by the Romans; he was the most important deity in both pantheons.\",\n",
      "        \"MoreInfo\": \"https://en.wikipedia.org/wiki/Jupiter\"\n",
      "    },\n",
      "    {\n",
      "        \"Name\": \"Saturn\",\n",
      "        \"Mass\": \"568\",\n",
      "        \"Radius\": \"120536\",\n",
      "        \"Description\": \"Roman name for the Greek Cronos, father of Zeus/Jupiter. Other civilizations have given different names to Saturn, which is the farthest planet from Earth that can be observed by the naked human eye. Most of its satellites were named for Titans who, according to Greek mythology, were brothers and sisters of Saturn.\",\n",
      "        \"MoreInfo\": \"https://en.wikipedia.org/wiki/Saturn\"\n",
      "    },\n",
      "    {\n",
      "        \"Name\": \"Uranus\",\n",
      "        \"Mass\": \"86.8\",\n",
      "        \"Radius\": \"51118\",\n",
      "        \"Description\": \"Several astronomers, including Flamsteed and Le Monnier, had observed Uranus earlier but had recorded it as a fixed star. Herschel tried unsuccessfully to name his discovery \\\"Georgian Sidus\\\" after George III; the planet was named by Johann Bode in 1781 after the ancient Greek deity of the sky Uranus, the father of Kronos (Saturn) and grandfather of Zeus (Jupiter).\",\n",
      "        \"MoreInfo\": \"https://en.wikipedia.org/wiki/Uranus\"\n",
      "    },\n",
      "    {\n",
      "        \"Name\": \"Neptune\",\n",
      "        \"Mass\": \"102\",\n",
      "        \"Radius\": \"49528\",\n",
      "        \"Description\": \"Neptune was \\\"predicted\\\" by John Couch Adams and Urbain Le Verrier who, independently, were able to account for the irregularities in the motion of Uranus by correctly predicting the orbital elements of a trans- Uranian body. Using the predicted parameters of Le Verrier (Adams never published his predictions), Johann Galle observed the planet in 1846. Galle wanted to name the planet for Le Verrier, but that was not acceptable to the international astronomical community. Instead, this planet is named for the Roman god of the sea.\",\n",
      "        \"MoreInfo\": \"https://en.wikipedia.org/wiki/Neptune\"\n",
      "    },\n",
      "    {\n",
      "        \"Name\": \"Pluto\",\n",
      "        \"Mass\": \"0.0146\",\n",
      "        \"Radius\": \"2370\",\n",
      "        \"Description\": \"Pluto was discovered at Lowell Observatory in Flagstaff, AZ during a systematic search for a trans-Neptune planet predicted by Percival Lowell and William H. Pickering. Named after the Roman god of the underworld who was able to render himself invisible.\",\n",
      "        \"MoreInfo\": \"https://en.wikipedia.org/wiki/Pluto\"\n",
      "    }\n",
      "]\n"
     ]
    }
   ],
   "source": [
    "# Convertendo em Arquivo JSON\n",
    "\n",
    "import json\n",
    "planets = get_planet_data()\n",
    "print(json.dumps(planets, indent=4))"
   ],
   "metadata": {
    "collapsed": false,
    "pycharm": {
     "name": "#%%\n"
    }
   }
  },
  {
   "cell_type": "code",
   "execution_count": 19,
   "outputs": [],
   "source": [
    "# Salvando os dados em um arquivo JSON\n",
    "with open('planets.json', 'w+') as jsonfile:\n",
    "\tjson.dump(planets, jsonfile, indent=4)"
   ],
   "metadata": {
    "collapsed": false,
    "pycharm": {
     "name": "#%%\n"
    }
   }
  },
  {
   "cell_type": "code",
   "execution_count": 22,
   "outputs": [
    {
     "name": "stdout",
     "output_type": "stream",
     "text": [
      "[{'Name': 'Mercury', 'Mass': '0.330', 'Radius': '4879', 'Description': 'Named Mercurius by the Romans because it appears to move so swiftly.', 'MoreInfo': 'https://en.wikipedia.org/wiki/Mercury_(planet)'}, {'Name': 'Venus', 'Mass': '4.87', 'Radius': '12104', 'Description': 'Roman name for the goddess of love. This planet was considered to be the brightest and most beautiful planet or star in the heavens. Other civilizations have named it for their god or goddess of love/war.', 'MoreInfo': 'https://en.wikipedia.org/wiki/Venus'}, {'Name': 'Earth', 'Mass': '5.97', 'Radius': '12756', 'Description': \"The name Earth comes from the Indo-European base 'er,'which produced the Germanic noun 'ertho,' and ultimately German 'erde,' Dutch 'aarde,' Scandinavian 'jord,' and English 'earth.' Related forms include Greek 'eraze,' meaning 'on the ground,' and Welsh 'erw,' meaning 'a piece of land.'\", 'MoreInfo': 'https://en.wikipedia.org/wiki/Earth'}, {'Name': 'Mars', 'Mass': '0.642', 'Radius': '6792', 'Description': 'Named by the Romans for their god of war because of its red, bloodlike color. Other civilizations also named this planet from this attribute; for example, the Egyptians named it \"Her Desher,\" meaning \"the red one.\"', 'MoreInfo': 'https://en.wikipedia.org/wiki/Mars'}, {'Name': 'Jupiter', 'Mass': '1898', 'Radius': '142984', 'Description': 'The largest and most massive of the planets was named Zeus by the Greeks and Jupiter by the Romans; he was the most important deity in both pantheons.', 'MoreInfo': 'https://en.wikipedia.org/wiki/Jupiter'}, {'Name': 'Saturn', 'Mass': '568', 'Radius': '120536', 'Description': 'Roman name for the Greek Cronos, father of Zeus/Jupiter. Other civilizations have given different names to Saturn, which is the farthest planet from Earth that can be observed by the naked human eye. Most of its satellites were named for Titans who, according to Greek mythology, were brothers and sisters of Saturn.', 'MoreInfo': 'https://en.wikipedia.org/wiki/Saturn'}, {'Name': 'Uranus', 'Mass': '86.8', 'Radius': '51118', 'Description': 'Several astronomers, including Flamsteed and Le Monnier, had observed Uranus earlier but had recorded it as a fixed star. Herschel tried unsuccessfully to name his discovery \"Georgian Sidus\" after George III; the planet was named by Johann Bode in 1781 after the ancient Greek deity of the sky Uranus, the father of Kronos (Saturn) and grandfather of Zeus (Jupiter).', 'MoreInfo': 'https://en.wikipedia.org/wiki/Uranus'}, {'Name': 'Neptune', 'Mass': '102', 'Radius': '49528', 'Description': 'Neptune was \"predicted\" by John Couch Adams and Urbain Le Verrier who, independently, were able to account for the irregularities in the motion of Uranus by correctly predicting the orbital elements of a trans- Uranian body. Using the predicted parameters of Le Verrier (Adams never published his predictions), Johann Galle observed the planet in 1846. Galle wanted to name the planet for Le Verrier, but that was not acceptable to the international astronomical community. Instead, this planet is named for the Roman god of the sea.', 'MoreInfo': 'https://en.wikipedia.org/wiki/Neptune'}, {'Name': 'Pluto', 'Mass': '0.0146', 'Radius': '2370', 'Description': 'Pluto was discovered at Lowell Observatory in Flagstaff, AZ during a systematic search for a trans-Neptune planet predicted by Percival Lowell and William H. Pickering. Named after the Roman god of the underworld who was able to render himself invisible.', 'MoreInfo': 'https://en.wikipedia.org/wiki/Pluto'}]\n"
     ]
    }
   ],
   "source": [
    "# JSON pode ser lido de um servidor com o Requests e convertido em um objeto Python\n",
    "\n",
    "planets_request = requests.get(\"http://localhost:8080/planets.json\")\n",
    "print(json.loads(planets_request.text))"
   ],
   "metadata": {
    "collapsed": false,
    "pycharm": {
     "name": "#%%\n"
    }
   }
  },
  {
   "cell_type": "code",
   "execution_count": 25,
   "outputs": [],
   "source": [
    "# Podemos importar no Pandas o JSON e salvar em CSV\n",
    "\n",
    "planets = get_planet_data()\n",
    "planets_df = pd.DataFrame(planets).set_index('Name')\n",
    "planets_df.reset_index().to_json('planets_pandas.json', orient='records')"
   ],
   "metadata": {
    "collapsed": false,
    "pycharm": {
     "name": "#%%\n"
    }
   }
  },
  {
   "cell_type": "code",
   "execution_count": 27,
   "outputs": [
    {
     "data": {
      "text/plain": "              Mass  Radius                                        Description  \\\nName                                                                            \nMercury     0.3300    4879  Named Mercurius by the Romans because it appea...   \nVenus       4.8700   12104  Roman name for the goddess of love. This plane...   \nEarth       5.9700   12756  The name Earth comes from the Indo-European ba...   \nMars        0.6420    6792  Named by the Romans for their god of war becau...   \nJupiter  1898.0000  142984  The largest and most massive of the planets wa...   \nSaturn    568.0000  120536  Roman name for the Greek Cronos, father of Zeu...   \nUranus     86.8000   51118  Several astronomers, including Flamsteed and L...   \nNeptune   102.0000   49528  Neptune was \"predicted\" by John Couch Adams an...   \nPluto       0.0146    2370  Pluto was discovered at Lowell Observatory in ...   \n\n                                               MoreInfo  \nName                                                     \nMercury  https://en.wikipedia.org/wiki/Mercury_(planet)  \nVenus               https://en.wikipedia.org/wiki/Venus  \nEarth               https://en.wikipedia.org/wiki/Earth  \nMars                 https://en.wikipedia.org/wiki/Mars  \nJupiter           https://en.wikipedia.org/wiki/Jupiter  \nSaturn             https://en.wikipedia.org/wiki/Saturn  \nUranus             https://en.wikipedia.org/wiki/Uranus  \nNeptune           https://en.wikipedia.org/wiki/Neptune  \nPluto               https://en.wikipedia.org/wiki/Pluto  ",
      "text/html": "<div>\n<style scoped>\n    .dataframe tbody tr th:only-of-type {\n        vertical-align: middle;\n    }\n\n    .dataframe tbody tr th {\n        vertical-align: top;\n    }\n\n    .dataframe thead th {\n        text-align: right;\n    }\n</style>\n<table border=\"1\" class=\"dataframe\">\n  <thead>\n    <tr style=\"text-align: right;\">\n      <th></th>\n      <th>Mass</th>\n      <th>Radius</th>\n      <th>Description</th>\n      <th>MoreInfo</th>\n    </tr>\n    <tr>\n      <th>Name</th>\n      <th></th>\n      <th></th>\n      <th></th>\n      <th></th>\n    </tr>\n  </thead>\n  <tbody>\n    <tr>\n      <th>Mercury</th>\n      <td>0.3300</td>\n      <td>4879</td>\n      <td>Named Mercurius by the Romans because it appea...</td>\n      <td>https://en.wikipedia.org/wiki/Mercury_(planet)</td>\n    </tr>\n    <tr>\n      <th>Venus</th>\n      <td>4.8700</td>\n      <td>12104</td>\n      <td>Roman name for the goddess of love. This plane...</td>\n      <td>https://en.wikipedia.org/wiki/Venus</td>\n    </tr>\n    <tr>\n      <th>Earth</th>\n      <td>5.9700</td>\n      <td>12756</td>\n      <td>The name Earth comes from the Indo-European ba...</td>\n      <td>https://en.wikipedia.org/wiki/Earth</td>\n    </tr>\n    <tr>\n      <th>Mars</th>\n      <td>0.6420</td>\n      <td>6792</td>\n      <td>Named by the Romans for their god of war becau...</td>\n      <td>https://en.wikipedia.org/wiki/Mars</td>\n    </tr>\n    <tr>\n      <th>Jupiter</th>\n      <td>1898.0000</td>\n      <td>142984</td>\n      <td>The largest and most massive of the planets wa...</td>\n      <td>https://en.wikipedia.org/wiki/Jupiter</td>\n    </tr>\n    <tr>\n      <th>Saturn</th>\n      <td>568.0000</td>\n      <td>120536</td>\n      <td>Roman name for the Greek Cronos, father of Zeu...</td>\n      <td>https://en.wikipedia.org/wiki/Saturn</td>\n    </tr>\n    <tr>\n      <th>Uranus</th>\n      <td>86.8000</td>\n      <td>51118</td>\n      <td>Several astronomers, including Flamsteed and L...</td>\n      <td>https://en.wikipedia.org/wiki/Uranus</td>\n    </tr>\n    <tr>\n      <th>Neptune</th>\n      <td>102.0000</td>\n      <td>49528</td>\n      <td>Neptune was \"predicted\" by John Couch Adams an...</td>\n      <td>https://en.wikipedia.org/wiki/Neptune</td>\n    </tr>\n    <tr>\n      <th>Pluto</th>\n      <td>0.0146</td>\n      <td>2370</td>\n      <td>Pluto was discovered at Lowell Observatory in ...</td>\n      <td>https://en.wikipedia.org/wiki/Pluto</td>\n    </tr>\n  </tbody>\n</table>\n</div>"
     },
     "execution_count": 27,
     "metadata": {},
     "output_type": "execute_result"
    }
   ],
   "source": [
    "# Podemos abrir um arquivo JSON no Pandas\n",
    "\n",
    "planets_df = pd.read_json(\"http://localhost:8080/planets_pandas.json\").set_index('Name')\n",
    "planets_df"
   ],
   "metadata": {
    "collapsed": false,
    "pycharm": {
     "name": "#%%\n"
    }
   }
  },
  {
   "cell_type": "code",
   "execution_count": null,
   "outputs": [],
   "source": [],
   "metadata": {
    "collapsed": false,
    "pycharm": {
     "name": "#%%\n"
    }
   }
  }
 ],
 "metadata": {
  "kernelspec": {
   "display_name": "Python 3",
   "language": "python",
   "name": "python3"
  },
  "language_info": {
   "codemirror_mode": {
    "name": "ipython",
    "version": 2
   },
   "file_extension": ".py",
   "mimetype": "text/x-python",
   "name": "python",
   "nbconvert_exporter": "python",
   "pygments_lexer": "ipython2",
   "version": "2.7.6"
  }
 },
 "nbformat": 4,
 "nbformat_minor": 0
}