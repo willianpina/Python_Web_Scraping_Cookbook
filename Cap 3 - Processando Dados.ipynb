{
 "cells": [
  {
   "cell_type": "markdown",
   "source": [
    "<h1 align=center> Processando Dados</h1>\n",
    "<p align=center><img src=\"https://img.freepik.com/vetores-premium/a-plataforma-esta-processando-dados-por-maquina_18660-693.jpg?w=2000\" width=500></p>"
   ],
   "metadata": {
    "collapsed": false,
    "pycharm": {
     "name": "#%% md\n"
    }
   }
  },
  {
   "cell_type": "markdown",
   "source": [
    "<h3>Trabalhando com dados CSV e JSON </h3>"
   ],
   "metadata": {
    "collapsed": false,
    "pycharm": {
     "name": "#%% md\n"
    }
   }
  },
  {
   "cell_type": "code",
   "execution_count": 1,
   "outputs": [
    {
     "name": "stdout",
     "output_type": "stream",
     "text": [
      "[{'Name': 'Mercury', 'Mass': '0.330', 'Radius': '4879', 'Description': 'Named Mercurius by the Romans because it appears to move so swiftly.', 'MoreInfo': 'https://en.wikipedia.org/wiki/Mercury_(planet)'}, {'Name': 'Venus', 'Mass': '4.87', 'Radius': '12104', 'Description': 'Roman name for the goddess of love. This planet was considered to be the brightest and most beautiful planet or star in the heavens. Other civilizations have named it for their god or goddess of love/war.', 'MoreInfo': 'https://en.wikipedia.org/wiki/Venus'}, {'Name': 'Earth', 'Mass': '5.97', 'Radius': '12756', 'Description': \"The name Earth comes from the Indo-European base 'er,'which produced the Germanic noun 'ertho,' and ultimately German 'erde,' Dutch 'aarde,' Scandinavian 'jord,' and English 'earth.' Related forms include Greek 'eraze,' meaning 'on the ground,' and Welsh 'erw,' meaning 'a piece of land.'\", 'MoreInfo': 'https://en.wikipedia.org/wiki/Earth'}, {'Name': 'Mars', 'Mass': '0.642', 'Radius': '6792', 'Description': 'Named by the Romans for their god of war because of its red, bloodlike color. Other civilizations also named this planet from this attribute; for example, the Egyptians named it \"Her Desher,\" meaning \"the red one.\"', 'MoreInfo': 'https://en.wikipedia.org/wiki/Mars'}, {'Name': 'Jupiter', 'Mass': '1898', 'Radius': '142984', 'Description': 'The largest and most massive of the planets was named Zeus by the Greeks and Jupiter by the Romans; he was the most important deity in both pantheons.', 'MoreInfo': 'https://en.wikipedia.org/wiki/Jupiter'}, {'Name': 'Saturn', 'Mass': '568', 'Radius': '120536', 'Description': 'Roman name for the Greek Cronos, father of Zeus/Jupiter. Other civilizations have given different names to Saturn, which is the farthest planet from Earth that can be observed by the naked human eye. Most of its satellites were named for Titans who, according to Greek mythology, were brothers and sisters of Saturn.', 'MoreInfo': 'https://en.wikipedia.org/wiki/Saturn'}, {'Name': 'Uranus', 'Mass': '86.8', 'Radius': '51118', 'Description': 'Several astronomers, including Flamsteed and Le Monnier, had observed Uranus earlier but had recorded it as a fixed star. Herschel tried unsuccessfully to name his discovery \"Georgian Sidus\" after George III; the planet was named by Johann Bode in 1781 after the ancient Greek deity of the sky Uranus, the father of Kronos (Saturn) and grandfather of Zeus (Jupiter).', 'MoreInfo': 'https://en.wikipedia.org/wiki/Uranus'}, {'Name': 'Neptune', 'Mass': '102', 'Radius': '49528', 'Description': 'Neptune was \"predicted\" by John Couch Adams and Urbain Le Verrier who, independently, were able to account for the irregularities in the motion of Uranus by correctly predicting the orbital elements of a trans- Uranian body. Using the predicted parameters of Le Verrier (Adams never published his predictions), Johann Galle observed the planet in 1846. Galle wanted to name the planet for Le Verrier, but that was not acceptable to the international astronomical community. Instead, this planet is named for the Roman god of the sea.', 'MoreInfo': 'https://en.wikipedia.org/wiki/Neptune'}, {'Name': 'Pluto', 'Mass': '0.0146', 'Radius': '2370', 'Description': 'Pluto was discovered at Lowell Observatory in Flagstaff, AZ during a systematic search for a trans-Neptune planet predicted by Percival Lowell and William H. Pickering. Named after the Roman god of the underworld who was able to render himself invisible.', 'MoreInfo': 'https://en.wikipedia.org/wiki/Pluto'}]\n"
     ]
    }
   ],
   "source": [
    "import requests\n",
    "from bs4 import BeautifulSoup\n",
    "\n",
    "def get_planet_data():\n",
    "    html = requests.get(\"http://localhost:8080/planets.html\").text\n",
    "    soup = BeautifulSoup(html, \"lxml\")\n",
    "    planet_trs = soup.html.body.div.table.findAll(\"tr\", {\"class\": \"planet\"})\n",
    "\n",
    "    def to_dict(tr):\n",
    "        tds = tr.findAll(\"td\")\n",
    "        planet_data = dict()\n",
    "        planet_data['Name'] = tds[1].text.strip()\n",
    "        planet_data['Mass'] = tds[2].text.strip()\n",
    "        planet_data['Radius'] = tds[3].text.strip()\n",
    "        planet_data['Description'] = tds[4].text.strip()\n",
    "        planet_data['MoreInfo'] = tds[5].findAll(\"a\")[0][\"href\"].strip()\n",
    "        return planet_data\n",
    "\n",
    "    planets = [to_dict(tr) for tr in planet_trs]\n",
    "    return planets\n",
    "\n",
    "\n",
    "if __name__ == \"__main__\":\n",
    "    print(get_planet_data())\n"
   ],
   "metadata": {
    "collapsed": false,
    "pycharm": {
     "name": "#%%\n"
    }
   }
  },
  {
   "cell_type": "code",
   "execution_count": 2,
   "outputs": [],
   "source": [
    "# Converter em arquivo CSV\n",
    "\n",
    "import csv\n",
    "\n",
    "planets = get_planet_data()\n",
    "\n",
    "with open('planets.csv','w+', newline='') as csvfile:\n",
    "\twriter = csv.writer(csvfile)\n",
    "\twriter.writerow(['Name', 'Mass','Radius','Description','MoreInfo'])\n",
    "\tfor planet in planets:\n",
    "\t\twriter.writerow([planet['Name'],\n",
    "\t\t                 planet['Mass'],\n",
    "                         planet['Radius'],\n",
    "                         planet['Description'],\n",
    "                         planet['MoreInfo']\n",
    "\t\t                 ])\n"
   ],
   "metadata": {
    "collapsed": false,
    "pycharm": {
     "name": "#%%\n"
    }
   }
  },
  {
   "cell_type": "code",
   "execution_count": 3,
   "outputs": [
    {
     "name": "stdout",
     "output_type": "stream",
     "text": [
      "['Name', 'Mass', 'Radius', 'Description', 'MoreInfo']\n",
      "['Mercury', '0.330', '4879', 'Named Mercurius by the Romans because it appears to move so swiftly.', 'https://en.wikipedia.org/wiki/Mercury_(planet)']\n",
      "['Venus', '4.87', '12104', 'Roman name for the goddess of love. This planet was considered to be the brightest and most beautiful planet or star in the heavens. Other civilizations have named it for their god or goddess of love/war.', 'https://en.wikipedia.org/wiki/Venus']\n",
      "['Earth', '5.97', '12756', \"The name Earth comes from the Indo-European base 'er,'which produced the Germanic noun 'ertho,' and ultimately German 'erde,' Dutch 'aarde,' Scandinavian 'jord,' and English 'earth.' Related forms include Greek 'eraze,' meaning 'on the ground,' and Welsh 'erw,' meaning 'a piece of land.'\", 'https://en.wikipedia.org/wiki/Earth']\n",
      "['Mars', '0.642', '6792', 'Named by the Romans for their god of war because of its red, bloodlike color. Other civilizations also named this planet from this attribute; for example, the Egyptians named it \"Her Desher,\" meaning \"the red one.\"', 'https://en.wikipedia.org/wiki/Mars']\n",
      "['Jupiter', '1898', '142984', 'The largest and most massive of the planets was named Zeus by the Greeks and Jupiter by the Romans; he was the most important deity in both pantheons.', 'https://en.wikipedia.org/wiki/Jupiter']\n",
      "['Saturn', '568', '120536', 'Roman name for the Greek Cronos, father of Zeus/Jupiter. Other civilizations have given different names to Saturn, which is the farthest planet from Earth that can be observed by the naked human eye. Most of its satellites were named for Titans who, according to Greek mythology, were brothers and sisters of Saturn.', 'https://en.wikipedia.org/wiki/Saturn']\n",
      "['Uranus', '86.8', '51118', 'Several astronomers, including Flamsteed and Le Monnier, had observed Uranus earlier but had recorded it as a fixed star. Herschel tried unsuccessfully to name his discovery \"Georgian Sidus\" after George III; the planet was named by Johann Bode in 1781 after the ancient Greek deity of the sky Uranus, the father of Kronos (Saturn) and grandfather of Zeus (Jupiter).', 'https://en.wikipedia.org/wiki/Uranus']\n",
      "['Neptune', '102', '49528', 'Neptune was \"predicted\" by John Couch Adams and Urbain Le Verrier who, independently, were able to account for the irregularities in the motion of Uranus by correctly predicting the orbital elements of a trans- Uranian body. Using the predicted parameters of Le Verrier (Adams never published his predictions), Johann Galle observed the planet in 1846. Galle wanted to name the planet for Le Verrier, but that was not acceptable to the international astronomical community. Instead, this planet is named for the Roman god of the sea.', 'https://en.wikipedia.org/wiki/Neptune']\n",
      "['Pluto', '0.0146', '2370', 'Pluto was discovered at Lowell Observatory in Flagstaff, AZ during a systematic search for a trans-Neptune planet predicted by Percival Lowell and William H. Pickering. Named after the Roman god of the underworld who was able to render himself invisible.', 'https://en.wikipedia.org/wiki/Pluto']\n"
     ]
    }
   ],
   "source": [
    "# Lendo os dados e armazenados em CSV e recuperando o conteúdo utilizando a Biblioteca REQUESTS\n",
    "\n",
    "import requests\n",
    "import csv\n",
    "\n",
    "planets_data = requests.get('http://localhost:8080/planets.csv').text\n",
    "planets = planets_data.split('\\n')\n",
    "reader = csv.reader(planets, delimiter=',', quotechar='\"')\n",
    "lines = [line for line in reader][:-1] # Porque a saída do CSV deixa a última linha em branco\n",
    "for line in lines:\n",
    "\tprint(line)"
   ],
   "metadata": {
    "collapsed": false,
    "pycharm": {
     "name": "#%%\n"
    }
   }
  },
  {
   "cell_type": "code",
   "execution_count": 4,
   "outputs": [
    {
     "data": {
      "text/plain": "              Mass  Radius                                        Description  \\\nName                                                                            \nMercury     0.3300    4879  Named Mercurius by the Romans because it appea...   \nVenus       4.8700   12104  Roman name for the goddess of love. This plane...   \nEarth       5.9700   12756  The name Earth comes from the Indo-European ba...   \nMars        0.6420    6792  Named by the Romans for their god of war becau...   \nJupiter  1898.0000  142984  The largest and most massive of the planets wa...   \nSaturn    568.0000  120536  Roman name for the Greek Cronos, father of Zeu...   \nUranus     86.8000   51118  Several astronomers, including Flamsteed and L...   \nNeptune   102.0000   49528  Neptune was \"predicted\" by John Couch Adams an...   \nPluto       0.0146    2370  Pluto was discovered at Lowell Observatory in ...   \n\n                                               MoreInfo  \nName                                                     \nMercury  https://en.wikipedia.org/wiki/Mercury_(planet)  \nVenus               https://en.wikipedia.org/wiki/Venus  \nEarth               https://en.wikipedia.org/wiki/Earth  \nMars                 https://en.wikipedia.org/wiki/Mars  \nJupiter           https://en.wikipedia.org/wiki/Jupiter  \nSaturn             https://en.wikipedia.org/wiki/Saturn  \nUranus             https://en.wikipedia.org/wiki/Uranus  \nNeptune           https://en.wikipedia.org/wiki/Neptune  \nPluto               https://en.wikipedia.org/wiki/Pluto  ",
      "text/html": "<div>\n<style scoped>\n    .dataframe tbody tr th:only-of-type {\n        vertical-align: middle;\n    }\n\n    .dataframe tbody tr th {\n        vertical-align: top;\n    }\n\n    .dataframe thead th {\n        text-align: right;\n    }\n</style>\n<table border=\"1\" class=\"dataframe\">\n  <thead>\n    <tr style=\"text-align: right;\">\n      <th></th>\n      <th>Mass</th>\n      <th>Radius</th>\n      <th>Description</th>\n      <th>MoreInfo</th>\n    </tr>\n    <tr>\n      <th>Name</th>\n      <th></th>\n      <th></th>\n      <th></th>\n      <th></th>\n    </tr>\n  </thead>\n  <tbody>\n    <tr>\n      <th>Mercury</th>\n      <td>0.3300</td>\n      <td>4879</td>\n      <td>Named Mercurius by the Romans because it appea...</td>\n      <td>https://en.wikipedia.org/wiki/Mercury_(planet)</td>\n    </tr>\n    <tr>\n      <th>Venus</th>\n      <td>4.8700</td>\n      <td>12104</td>\n      <td>Roman name for the goddess of love. This plane...</td>\n      <td>https://en.wikipedia.org/wiki/Venus</td>\n    </tr>\n    <tr>\n      <th>Earth</th>\n      <td>5.9700</td>\n      <td>12756</td>\n      <td>The name Earth comes from the Indo-European ba...</td>\n      <td>https://en.wikipedia.org/wiki/Earth</td>\n    </tr>\n    <tr>\n      <th>Mars</th>\n      <td>0.6420</td>\n      <td>6792</td>\n      <td>Named by the Romans for their god of war becau...</td>\n      <td>https://en.wikipedia.org/wiki/Mars</td>\n    </tr>\n    <tr>\n      <th>Jupiter</th>\n      <td>1898.0000</td>\n      <td>142984</td>\n      <td>The largest and most massive of the planets wa...</td>\n      <td>https://en.wikipedia.org/wiki/Jupiter</td>\n    </tr>\n    <tr>\n      <th>Saturn</th>\n      <td>568.0000</td>\n      <td>120536</td>\n      <td>Roman name for the Greek Cronos, father of Zeu...</td>\n      <td>https://en.wikipedia.org/wiki/Saturn</td>\n    </tr>\n    <tr>\n      <th>Uranus</th>\n      <td>86.8000</td>\n      <td>51118</td>\n      <td>Several astronomers, including Flamsteed and L...</td>\n      <td>https://en.wikipedia.org/wiki/Uranus</td>\n    </tr>\n    <tr>\n      <th>Neptune</th>\n      <td>102.0000</td>\n      <td>49528</td>\n      <td>Neptune was \"predicted\" by John Couch Adams an...</td>\n      <td>https://en.wikipedia.org/wiki/Neptune</td>\n    </tr>\n    <tr>\n      <th>Pluto</th>\n      <td>0.0146</td>\n      <td>2370</td>\n      <td>Pluto was discovered at Lowell Observatory in ...</td>\n      <td>https://en.wikipedia.org/wiki/Pluto</td>\n    </tr>\n  </tbody>\n</table>\n</div>"
     },
     "execution_count": 4,
     "metadata": {},
     "output_type": "execute_result"
    }
   ],
   "source": [
    "# Utilizar a biblioteca PANDAS é mais fácil\n",
    "\n",
    "import pandas as pd\n",
    "planets_df = pd.read_csv(\"http://localhost:8080/planets.csv\", index_col='Name')\n",
    "planets_df"
   ],
   "metadata": {
    "collapsed": false,
    "pycharm": {
     "name": "#%%\n"
    }
   }
  },
  {
   "cell_type": "code",
   "execution_count": 5,
   "outputs": [],
   "source": [
    "# Podemos adicionar em um DATAFRAME e depois exportar para CSV\n",
    "\n",
    "planets = get_planet_data()\n",
    "planets_df = pd.DataFrame(planets).set_index('Name')\n",
    "planets_df.to_csv('planets_pandas.csv')"
   ],
   "metadata": {
    "collapsed": false,
    "pycharm": {
     "name": "#%%\n"
    }
   }
  },
  {
   "cell_type": "code",
   "execution_count": 6,
   "outputs": [
    {
     "data": {
      "text/plain": "              Mass  Radius                                        Description  \\\nName                                                                            \nMercury     0.3300    4879  Named Mercurius by the Romans because it appea...   \nVenus       4.8700   12104  Roman name for the goddess of love. This plane...   \nEarth       5.9700   12756  The name Earth comes from the Indo-European ba...   \nMars        0.6420    6792  Named by the Romans for their god of war becau...   \nJupiter  1898.0000  142984  The largest and most massive of the planets wa...   \nSaturn    568.0000  120536  Roman name for the Greek Cronos, father of Zeu...   \nUranus     86.8000   51118  Several astronomers, including Flamsteed and L...   \nNeptune   102.0000   49528  Neptune was \"predicted\" by John Couch Adams an...   \nPluto       0.0146    2370  Pluto was discovered at Lowell Observatory in ...   \n\n                                               MoreInfo  \nName                                                     \nMercury  https://en.wikipedia.org/wiki/Mercury_(planet)  \nVenus               https://en.wikipedia.org/wiki/Venus  \nEarth               https://en.wikipedia.org/wiki/Earth  \nMars                 https://en.wikipedia.org/wiki/Mars  \nJupiter           https://en.wikipedia.org/wiki/Jupiter  \nSaturn             https://en.wikipedia.org/wiki/Saturn  \nUranus             https://en.wikipedia.org/wiki/Uranus  \nNeptune           https://en.wikipedia.org/wiki/Neptune  \nPluto               https://en.wikipedia.org/wiki/Pluto  ",
      "text/html": "<div>\n<style scoped>\n    .dataframe tbody tr th:only-of-type {\n        vertical-align: middle;\n    }\n\n    .dataframe tbody tr th {\n        vertical-align: top;\n    }\n\n    .dataframe thead th {\n        text-align: right;\n    }\n</style>\n<table border=\"1\" class=\"dataframe\">\n  <thead>\n    <tr style=\"text-align: right;\">\n      <th></th>\n      <th>Mass</th>\n      <th>Radius</th>\n      <th>Description</th>\n      <th>MoreInfo</th>\n    </tr>\n    <tr>\n      <th>Name</th>\n      <th></th>\n      <th></th>\n      <th></th>\n      <th></th>\n    </tr>\n  </thead>\n  <tbody>\n    <tr>\n      <th>Mercury</th>\n      <td>0.3300</td>\n      <td>4879</td>\n      <td>Named Mercurius by the Romans because it appea...</td>\n      <td>https://en.wikipedia.org/wiki/Mercury_(planet)</td>\n    </tr>\n    <tr>\n      <th>Venus</th>\n      <td>4.8700</td>\n      <td>12104</td>\n      <td>Roman name for the goddess of love. This plane...</td>\n      <td>https://en.wikipedia.org/wiki/Venus</td>\n    </tr>\n    <tr>\n      <th>Earth</th>\n      <td>5.9700</td>\n      <td>12756</td>\n      <td>The name Earth comes from the Indo-European ba...</td>\n      <td>https://en.wikipedia.org/wiki/Earth</td>\n    </tr>\n    <tr>\n      <th>Mars</th>\n      <td>0.6420</td>\n      <td>6792</td>\n      <td>Named by the Romans for their god of war becau...</td>\n      <td>https://en.wikipedia.org/wiki/Mars</td>\n    </tr>\n    <tr>\n      <th>Jupiter</th>\n      <td>1898.0000</td>\n      <td>142984</td>\n      <td>The largest and most massive of the planets wa...</td>\n      <td>https://en.wikipedia.org/wiki/Jupiter</td>\n    </tr>\n    <tr>\n      <th>Saturn</th>\n      <td>568.0000</td>\n      <td>120536</td>\n      <td>Roman name for the Greek Cronos, father of Zeu...</td>\n      <td>https://en.wikipedia.org/wiki/Saturn</td>\n    </tr>\n    <tr>\n      <th>Uranus</th>\n      <td>86.8000</td>\n      <td>51118</td>\n      <td>Several astronomers, including Flamsteed and L...</td>\n      <td>https://en.wikipedia.org/wiki/Uranus</td>\n    </tr>\n    <tr>\n      <th>Neptune</th>\n      <td>102.0000</td>\n      <td>49528</td>\n      <td>Neptune was \"predicted\" by John Couch Adams an...</td>\n      <td>https://en.wikipedia.org/wiki/Neptune</td>\n    </tr>\n    <tr>\n      <th>Pluto</th>\n      <td>0.0146</td>\n      <td>2370</td>\n      <td>Pluto was discovered at Lowell Observatory in ...</td>\n      <td>https://en.wikipedia.org/wiki/Pluto</td>\n    </tr>\n  </tbody>\n</table>\n</div>"
     },
     "execution_count": 6,
     "metadata": {},
     "output_type": "execute_result"
    }
   ],
   "source": [
    "# Para ler os Arquivos:\n",
    "\n",
    "planets_df= pd.read_csv(\"http://localhost:8080/planets_pandas.csv\", index_col='Name')\n",
    "planets_df"
   ],
   "metadata": {
    "collapsed": false,
    "pycharm": {
     "name": "#%%\n"
    }
   }
  },
  {
   "cell_type": "code",
   "execution_count": 7,
   "outputs": [
    {
     "name": "stdout",
     "output_type": "stream",
     "text": [
      "[\n",
      "    {\n",
      "        \"Name\": \"Mercury\",\n",
      "        \"Mass\": \"0.330\",\n",
      "        \"Radius\": \"4879\",\n",
      "        \"Description\": \"Named Mercurius by the Romans because it appears to move so swiftly.\",\n",
      "        \"MoreInfo\": \"https://en.wikipedia.org/wiki/Mercury_(planet)\"\n",
      "    },\n",
      "    {\n",
      "        \"Name\": \"Venus\",\n",
      "        \"Mass\": \"4.87\",\n",
      "        \"Radius\": \"12104\",\n",
      "        \"Description\": \"Roman name for the goddess of love. This planet was considered to be the brightest and most beautiful planet or star in the heavens. Other civilizations have named it for their god or goddess of love/war.\",\n",
      "        \"MoreInfo\": \"https://en.wikipedia.org/wiki/Venus\"\n",
      "    },\n",
      "    {\n",
      "        \"Name\": \"Earth\",\n",
      "        \"Mass\": \"5.97\",\n",
      "        \"Radius\": \"12756\",\n",
      "        \"Description\": \"The name Earth comes from the Indo-European base 'er,'which produced the Germanic noun 'ertho,' and ultimately German 'erde,' Dutch 'aarde,' Scandinavian 'jord,' and English 'earth.' Related forms include Greek 'eraze,' meaning 'on the ground,' and Welsh 'erw,' meaning 'a piece of land.'\",\n",
      "        \"MoreInfo\": \"https://en.wikipedia.org/wiki/Earth\"\n",
      "    },\n",
      "    {\n",
      "        \"Name\": \"Mars\",\n",
      "        \"Mass\": \"0.642\",\n",
      "        \"Radius\": \"6792\",\n",
      "        \"Description\": \"Named by the Romans for their god of war because of its red, bloodlike color. Other civilizations also named this planet from this attribute; for example, the Egyptians named it \\\"Her Desher,\\\" meaning \\\"the red one.\\\"\",\n",
      "        \"MoreInfo\": \"https://en.wikipedia.org/wiki/Mars\"\n",
      "    },\n",
      "    {\n",
      "        \"Name\": \"Jupiter\",\n",
      "        \"Mass\": \"1898\",\n",
      "        \"Radius\": \"142984\",\n",
      "        \"Description\": \"The largest and most massive of the planets was named Zeus by the Greeks and Jupiter by the Romans; he was the most important deity in both pantheons.\",\n",
      "        \"MoreInfo\": \"https://en.wikipedia.org/wiki/Jupiter\"\n",
      "    },\n",
      "    {\n",
      "        \"Name\": \"Saturn\",\n",
      "        \"Mass\": \"568\",\n",
      "        \"Radius\": \"120536\",\n",
      "        \"Description\": \"Roman name for the Greek Cronos, father of Zeus/Jupiter. Other civilizations have given different names to Saturn, which is the farthest planet from Earth that can be observed by the naked human eye. Most of its satellites were named for Titans who, according to Greek mythology, were brothers and sisters of Saturn.\",\n",
      "        \"MoreInfo\": \"https://en.wikipedia.org/wiki/Saturn\"\n",
      "    },\n",
      "    {\n",
      "        \"Name\": \"Uranus\",\n",
      "        \"Mass\": \"86.8\",\n",
      "        \"Radius\": \"51118\",\n",
      "        \"Description\": \"Several astronomers, including Flamsteed and Le Monnier, had observed Uranus earlier but had recorded it as a fixed star. Herschel tried unsuccessfully to name his discovery \\\"Georgian Sidus\\\" after George III; the planet was named by Johann Bode in 1781 after the ancient Greek deity of the sky Uranus, the father of Kronos (Saturn) and grandfather of Zeus (Jupiter).\",\n",
      "        \"MoreInfo\": \"https://en.wikipedia.org/wiki/Uranus\"\n",
      "    },\n",
      "    {\n",
      "        \"Name\": \"Neptune\",\n",
      "        \"Mass\": \"102\",\n",
      "        \"Radius\": \"49528\",\n",
      "        \"Description\": \"Neptune was \\\"predicted\\\" by John Couch Adams and Urbain Le Verrier who, independently, were able to account for the irregularities in the motion of Uranus by correctly predicting the orbital elements of a trans- Uranian body. Using the predicted parameters of Le Verrier (Adams never published his predictions), Johann Galle observed the planet in 1846. Galle wanted to name the planet for Le Verrier, but that was not acceptable to the international astronomical community. Instead, this planet is named for the Roman god of the sea.\",\n",
      "        \"MoreInfo\": \"https://en.wikipedia.org/wiki/Neptune\"\n",
      "    },\n",
      "    {\n",
      "        \"Name\": \"Pluto\",\n",
      "        \"Mass\": \"0.0146\",\n",
      "        \"Radius\": \"2370\",\n",
      "        \"Description\": \"Pluto was discovered at Lowell Observatory in Flagstaff, AZ during a systematic search for a trans-Neptune planet predicted by Percival Lowell and William H. Pickering. Named after the Roman god of the underworld who was able to render himself invisible.\",\n",
      "        \"MoreInfo\": \"https://en.wikipedia.org/wiki/Pluto\"\n",
      "    }\n",
      "]\n"
     ]
    }
   ],
   "source": [
    "# Convertendo em Arquivo JSON\n",
    "\n",
    "import json\n",
    "planets = get_planet_data()\n",
    "print(json.dumps(planets, indent=4))"
   ],
   "metadata": {
    "collapsed": false,
    "pycharm": {
     "name": "#%%\n"
    }
   }
  },
  {
   "cell_type": "code",
   "execution_count": 8,
   "outputs": [],
   "source": [
    "# Salvando os dados em um arquivo JSON\n",
    "with open('planets.json', 'w+') as jsonfile:\n",
    "\tjson.dump(planets, jsonfile, indent=4)"
   ],
   "metadata": {
    "collapsed": false,
    "pycharm": {
     "name": "#%%\n"
    }
   }
  },
  {
   "cell_type": "code",
   "execution_count": 9,
   "outputs": [
    {
     "name": "stdout",
     "output_type": "stream",
     "text": [
      "[{'Name': 'Mercury', 'Mass': '0.330', 'Radius': '4879', 'Description': 'Named Mercurius by the Romans because it appears to move so swiftly.', 'MoreInfo': 'https://en.wikipedia.org/wiki/Mercury_(planet)'}, {'Name': 'Venus', 'Mass': '4.87', 'Radius': '12104', 'Description': 'Roman name for the goddess of love. This planet was considered to be the brightest and most beautiful planet or star in the heavens. Other civilizations have named it for their god or goddess of love/war.', 'MoreInfo': 'https://en.wikipedia.org/wiki/Venus'}, {'Name': 'Earth', 'Mass': '5.97', 'Radius': '12756', 'Description': \"The name Earth comes from the Indo-European base 'er,'which produced the Germanic noun 'ertho,' and ultimately German 'erde,' Dutch 'aarde,' Scandinavian 'jord,' and English 'earth.' Related forms include Greek 'eraze,' meaning 'on the ground,' and Welsh 'erw,' meaning 'a piece of land.'\", 'MoreInfo': 'https://en.wikipedia.org/wiki/Earth'}, {'Name': 'Mars', 'Mass': '0.642', 'Radius': '6792', 'Description': 'Named by the Romans for their god of war because of its red, bloodlike color. Other civilizations also named this planet from this attribute; for example, the Egyptians named it \"Her Desher,\" meaning \"the red one.\"', 'MoreInfo': 'https://en.wikipedia.org/wiki/Mars'}, {'Name': 'Jupiter', 'Mass': '1898', 'Radius': '142984', 'Description': 'The largest and most massive of the planets was named Zeus by the Greeks and Jupiter by the Romans; he was the most important deity in both pantheons.', 'MoreInfo': 'https://en.wikipedia.org/wiki/Jupiter'}, {'Name': 'Saturn', 'Mass': '568', 'Radius': '120536', 'Description': 'Roman name for the Greek Cronos, father of Zeus/Jupiter. Other civilizations have given different names to Saturn, which is the farthest planet from Earth that can be observed by the naked human eye. Most of its satellites were named for Titans who, according to Greek mythology, were brothers and sisters of Saturn.', 'MoreInfo': 'https://en.wikipedia.org/wiki/Saturn'}, {'Name': 'Uranus', 'Mass': '86.8', 'Radius': '51118', 'Description': 'Several astronomers, including Flamsteed and Le Monnier, had observed Uranus earlier but had recorded it as a fixed star. Herschel tried unsuccessfully to name his discovery \"Georgian Sidus\" after George III; the planet was named by Johann Bode in 1781 after the ancient Greek deity of the sky Uranus, the father of Kronos (Saturn) and grandfather of Zeus (Jupiter).', 'MoreInfo': 'https://en.wikipedia.org/wiki/Uranus'}, {'Name': 'Neptune', 'Mass': '102', 'Radius': '49528', 'Description': 'Neptune was \"predicted\" by John Couch Adams and Urbain Le Verrier who, independently, were able to account for the irregularities in the motion of Uranus by correctly predicting the orbital elements of a trans- Uranian body. Using the predicted parameters of Le Verrier (Adams never published his predictions), Johann Galle observed the planet in 1846. Galle wanted to name the planet for Le Verrier, but that was not acceptable to the international astronomical community. Instead, this planet is named for the Roman god of the sea.', 'MoreInfo': 'https://en.wikipedia.org/wiki/Neptune'}, {'Name': 'Pluto', 'Mass': '0.0146', 'Radius': '2370', 'Description': 'Pluto was discovered at Lowell Observatory in Flagstaff, AZ during a systematic search for a trans-Neptune planet predicted by Percival Lowell and William H. Pickering. Named after the Roman god of the underworld who was able to render himself invisible.', 'MoreInfo': 'https://en.wikipedia.org/wiki/Pluto'}]\n"
     ]
    }
   ],
   "source": [
    "# JSON pode ser lido de um servidor com o Requests e convertido em um objeto Python\n",
    "\n",
    "planets_request = requests.get(\"http://localhost:8080/planets.json\")\n",
    "print(json.loads(planets_request.text))"
   ],
   "metadata": {
    "collapsed": false,
    "pycharm": {
     "name": "#%%\n"
    }
   }
  },
  {
   "cell_type": "code",
   "execution_count": 10,
   "outputs": [],
   "source": [
    "# Podemos importar no Pandas o JSON e salvar em CSV\n",
    "\n",
    "planets = get_planet_data()\n",
    "planets_df = pd.DataFrame(planets).set_index('Name')\n",
    "planets_df.reset_index().to_json('planets_pandas.json', orient='records')"
   ],
   "metadata": {
    "collapsed": false,
    "pycharm": {
     "name": "#%%\n"
    }
   }
  },
  {
   "cell_type": "code",
   "execution_count": 11,
   "outputs": [
    {
     "data": {
      "text/plain": "              Mass  Radius                                        Description  \\\nName                                                                            \nMercury     0.3300    4879  Named Mercurius by the Romans because it appea...   \nVenus       4.8700   12104  Roman name for the goddess of love. This plane...   \nEarth       5.9700   12756  The name Earth comes from the Indo-European ba...   \nMars        0.6420    6792  Named by the Romans for their god of war becau...   \nJupiter  1898.0000  142984  The largest and most massive of the planets wa...   \nSaturn    568.0000  120536  Roman name for the Greek Cronos, father of Zeu...   \nUranus     86.8000   51118  Several astronomers, including Flamsteed and L...   \nNeptune   102.0000   49528  Neptune was \"predicted\" by John Couch Adams an...   \nPluto       0.0146    2370  Pluto was discovered at Lowell Observatory in ...   \n\n                                               MoreInfo  \nName                                                     \nMercury  https://en.wikipedia.org/wiki/Mercury_(planet)  \nVenus               https://en.wikipedia.org/wiki/Venus  \nEarth               https://en.wikipedia.org/wiki/Earth  \nMars                 https://en.wikipedia.org/wiki/Mars  \nJupiter           https://en.wikipedia.org/wiki/Jupiter  \nSaturn             https://en.wikipedia.org/wiki/Saturn  \nUranus             https://en.wikipedia.org/wiki/Uranus  \nNeptune           https://en.wikipedia.org/wiki/Neptune  \nPluto               https://en.wikipedia.org/wiki/Pluto  ",
      "text/html": "<div>\n<style scoped>\n    .dataframe tbody tr th:only-of-type {\n        vertical-align: middle;\n    }\n\n    .dataframe tbody tr th {\n        vertical-align: top;\n    }\n\n    .dataframe thead th {\n        text-align: right;\n    }\n</style>\n<table border=\"1\" class=\"dataframe\">\n  <thead>\n    <tr style=\"text-align: right;\">\n      <th></th>\n      <th>Mass</th>\n      <th>Radius</th>\n      <th>Description</th>\n      <th>MoreInfo</th>\n    </tr>\n    <tr>\n      <th>Name</th>\n      <th></th>\n      <th></th>\n      <th></th>\n      <th></th>\n    </tr>\n  </thead>\n  <tbody>\n    <tr>\n      <th>Mercury</th>\n      <td>0.3300</td>\n      <td>4879</td>\n      <td>Named Mercurius by the Romans because it appea...</td>\n      <td>https://en.wikipedia.org/wiki/Mercury_(planet)</td>\n    </tr>\n    <tr>\n      <th>Venus</th>\n      <td>4.8700</td>\n      <td>12104</td>\n      <td>Roman name for the goddess of love. This plane...</td>\n      <td>https://en.wikipedia.org/wiki/Venus</td>\n    </tr>\n    <tr>\n      <th>Earth</th>\n      <td>5.9700</td>\n      <td>12756</td>\n      <td>The name Earth comes from the Indo-European ba...</td>\n      <td>https://en.wikipedia.org/wiki/Earth</td>\n    </tr>\n    <tr>\n      <th>Mars</th>\n      <td>0.6420</td>\n      <td>6792</td>\n      <td>Named by the Romans for their god of war becau...</td>\n      <td>https://en.wikipedia.org/wiki/Mars</td>\n    </tr>\n    <tr>\n      <th>Jupiter</th>\n      <td>1898.0000</td>\n      <td>142984</td>\n      <td>The largest and most massive of the planets wa...</td>\n      <td>https://en.wikipedia.org/wiki/Jupiter</td>\n    </tr>\n    <tr>\n      <th>Saturn</th>\n      <td>568.0000</td>\n      <td>120536</td>\n      <td>Roman name for the Greek Cronos, father of Zeu...</td>\n      <td>https://en.wikipedia.org/wiki/Saturn</td>\n    </tr>\n    <tr>\n      <th>Uranus</th>\n      <td>86.8000</td>\n      <td>51118</td>\n      <td>Several astronomers, including Flamsteed and L...</td>\n      <td>https://en.wikipedia.org/wiki/Uranus</td>\n    </tr>\n    <tr>\n      <th>Neptune</th>\n      <td>102.0000</td>\n      <td>49528</td>\n      <td>Neptune was \"predicted\" by John Couch Adams an...</td>\n      <td>https://en.wikipedia.org/wiki/Neptune</td>\n    </tr>\n    <tr>\n      <th>Pluto</th>\n      <td>0.0146</td>\n      <td>2370</td>\n      <td>Pluto was discovered at Lowell Observatory in ...</td>\n      <td>https://en.wikipedia.org/wiki/Pluto</td>\n    </tr>\n  </tbody>\n</table>\n</div>"
     },
     "execution_count": 11,
     "metadata": {},
     "output_type": "execute_result"
    }
   ],
   "source": [
    "# Podemos abrir um arquivo JSON no Pandas\n",
    "\n",
    "planets_df = pd.read_json(\"http://localhost:8080/planets_pandas.json\").set_index('Name')\n",
    "planets_df"
   ],
   "metadata": {
    "collapsed": false,
    "pycharm": {
     "name": "#%%\n"
    }
   }
  },
  {
   "cell_type": "markdown",
   "source": [
    "<h3>Armazenando dados usando AWS S3</h3>"
   ],
   "metadata": {
    "collapsed": false,
    "pycharm": {
     "name": "#%% md\n"
    }
   }
  },
  {
   "cell_type": "code",
   "execution_count": 13,
   "outputs": [
    {
     "data": {
      "text/plain": "{'ResponseMetadata': {'RequestId': 'T5M9MQS44TF9WKSS',\n  'HostId': 'oW10leOlcBxh7rS3yMvC6vc84+vVx+Of4YSYOIXDRJFUmKKg9kEDNPQGYozFDh4U6OJWRsYbNMY=',\n  'HTTPStatusCode': 200,\n  'HTTPHeaders': {'x-amz-id-2': 'oW10leOlcBxh7rS3yMvC6vc84+vVx+Of4YSYOIXDRJFUmKKg9kEDNPQGYozFDh4U6OJWRsYbNMY=',\n   'x-amz-request-id': 'T5M9MQS44TF9WKSS',\n   'date': 'Fri, 16 Sep 2022 20:49:12 GMT',\n   'etag': '\"be802bc47b185ec3f8fc568f43fa2eed\"',\n   'server': 'AmazonS3',\n   'content-length': '0'},\n  'RetryAttempts': 0},\n 'ETag': '\"be802bc47b185ec3f8fc568f43fa2eed\"'}"
     },
     "execution_count": 13,
     "metadata": {},
     "output_type": "execute_result"
    }
   ],
   "source": [
    "import requests\n",
    "import boto3\n",
    "\n",
    "data = requests.get(\"http://localhost:8080/planets.html\").text\n",
    "\n",
    "# create S3 client, use environment variables for keys\n",
    "s3 = boto3.client('s3')\n",
    "\n",
    "# Nomeando Bucket\n",
    "bucket_name = 'planets-content-willian'\n",
    "\n",
    "# create bucket, set\n",
    "s3.create_bucket(Bucket= bucket_name, ACL='public-read')\n",
    "s3.put_object(Bucket=bucket_name, Key='planets.html',\n",
    "              Body=data, ACL=\"public-read\")"
   ],
   "metadata": {
    "collapsed": false,
    "pycharm": {
     "name": "#%%\n"
    }
   }
  },
  {
   "cell_type": "markdown",
   "source": [
    "<h3>Armazenando usando PostGreSQL</h3>"
   ],
   "metadata": {
    "collapsed": false,
    "pycharm": {
     "name": "#%% md\n"
    }
   }
  },
  {
   "cell_type": "code",
   "execution_count": 15,
   "outputs": [],
   "source": [
    "# Instalando as Biblioteca\n",
    "import psycopg2 as pg\n",
    "\n",
    "\n",
    "# Conectando à Base de Dados \"scraping\"\n",
    "conn = pg.connect(user=\"postgres\",\n",
    "                        password=\"admin\",\n",
    "                        host=\"127.0.0.1\",\n",
    "                        port=\"5432\",\n",
    "                        database=\"scraping\")\n",
    "\n",
    "cur = conn.cursor()\n",
    "\n",
    "# Instrução SQL para criar as colunas\n",
    "sql = \"\"\"\n",
    "\t\tCREATE TABLE planets(\n",
    "\t\t\t\tid SERIAL PRIMARY KEY,\n",
    "\t\t\t\tname VARCHAR(45) NOT NULL,\n",
    "\t\t\t\tmass FLOAT NOT NULL,\n",
    "\t\t\t\tradius FLOAT NOT NULL,\n",
    "\t\t\t\tdescription VARCHAR(5000) NULL)\n",
    "\t\t\"\"\"\n",
    "\n",
    "# Executar a instrução SQL, comitar e fechar a conexão.\n",
    "cur.execute(sql)\n",
    "conn.commit()\n",
    "cur.close()"
   ],
   "metadata": {
    "collapsed": false,
    "pycharm": {
     "name": "#%%\n"
    }
   }
  },
  {
   "cell_type": "code",
   "execution_count": 16,
   "outputs": [
    {
     "name": "stdout",
     "output_type": "stream",
     "text": [
      "Armazenando dados: Mercury\n",
      "Armazenando dados: Venus\n",
      "Armazenando dados: Earth\n",
      "Armazenando dados: Mars\n",
      "Armazenando dados: Jupiter\n",
      "Armazenando dados: Saturn\n",
      "Armazenando dados: Uranus\n",
      "Armazenando dados: Neptune\n",
      "Armazenando dados: Pluto\n"
     ]
    }
   ],
   "source": [
    "# Vamos inserir os dados no Banco de Dados \"Scraping\"\n",
    "from psycopg2 import errors\n",
    "\n",
    "# Abrindo a conexão com o Banco de dados\n",
    "conn = pg.connect(user=\"postgres\",\n",
    "                      password=\"admin\",\n",
    "                      host=\"127.0.0.1\",\n",
    "                      port=\"5432\",\n",
    "                      database=\"scraping\")\n",
    "\n",
    "insert_sql = (\"INSERT INTO Planets (Name, Mass, Radius,Description) \" + \"VALUES (%(Name)s, %(Mass)s, %(Radius)s, %(Description)s)\")\n",
    "planet_data = get_planet_data()\n",
    "\n",
    "cur = conn.cursor()\n",
    "\n",
    "for planet in planet_data:\n",
    "    print('Armazenando dados: %s' %(planet['Name']))\n",
    "    cur.execute(insert_sql, planet)\n",
    "    conn.commit()\n",
    "\n",
    "cur.close()\n",
    "conn.close()"
   ],
   "metadata": {
    "collapsed": false,
    "pycharm": {
     "name": "#%%\n"
    }
   }
  },
  {
   "cell_type": "code",
   "execution_count": 17,
   "outputs": [
    {
     "data": {
      "text/plain": "   id     name       mass    radius  \\\n0   1  Mercury     0.3300    4879.0   \n1   2    Venus     4.8700   12104.0   \n2   3    Earth     5.9700   12756.0   \n3   4     Mars     0.6420    6792.0   \n4   5  Jupiter  1898.0000  142984.0   \n5   6   Saturn   568.0000  120536.0   \n6   7   Uranus    86.8000   51118.0   \n7   8  Neptune   102.0000   49528.0   \n8   9    Pluto     0.0146    2370.0   \n\n                                         description  \n0  Named Mercurius by the Romans because it appea...  \n1  Roman name for the goddess of love. This plane...  \n2  The name Earth comes from the Indo-European ba...  \n3  Named by the Romans for their god of war becau...  \n4  The largest and most massive of the planets wa...  \n5  Roman name for the Greek Cronos, father of Zeu...  \n6  Several astronomers, including Flamsteed and L...  \n7  Neptune was \"predicted\" by John Couch Adams an...  \n8  Pluto was discovered at Lowell Observatory in ...  ",
      "text/html": "<div>\n<style scoped>\n    .dataframe tbody tr th:only-of-type {\n        vertical-align: middle;\n    }\n\n    .dataframe tbody tr th {\n        vertical-align: top;\n    }\n\n    .dataframe thead th {\n        text-align: right;\n    }\n</style>\n<table border=\"1\" class=\"dataframe\">\n  <thead>\n    <tr style=\"text-align: right;\">\n      <th></th>\n      <th>id</th>\n      <th>name</th>\n      <th>mass</th>\n      <th>radius</th>\n      <th>description</th>\n    </tr>\n  </thead>\n  <tbody>\n    <tr>\n      <th>0</th>\n      <td>1</td>\n      <td>Mercury</td>\n      <td>0.3300</td>\n      <td>4879.0</td>\n      <td>Named Mercurius by the Romans because it appea...</td>\n    </tr>\n    <tr>\n      <th>1</th>\n      <td>2</td>\n      <td>Venus</td>\n      <td>4.8700</td>\n      <td>12104.0</td>\n      <td>Roman name for the goddess of love. This plane...</td>\n    </tr>\n    <tr>\n      <th>2</th>\n      <td>3</td>\n      <td>Earth</td>\n      <td>5.9700</td>\n      <td>12756.0</td>\n      <td>The name Earth comes from the Indo-European ba...</td>\n    </tr>\n    <tr>\n      <th>3</th>\n      <td>4</td>\n      <td>Mars</td>\n      <td>0.6420</td>\n      <td>6792.0</td>\n      <td>Named by the Romans for their god of war becau...</td>\n    </tr>\n    <tr>\n      <th>4</th>\n      <td>5</td>\n      <td>Jupiter</td>\n      <td>1898.0000</td>\n      <td>142984.0</td>\n      <td>The largest and most massive of the planets wa...</td>\n    </tr>\n    <tr>\n      <th>5</th>\n      <td>6</td>\n      <td>Saturn</td>\n      <td>568.0000</td>\n      <td>120536.0</td>\n      <td>Roman name for the Greek Cronos, father of Zeu...</td>\n    </tr>\n    <tr>\n      <th>6</th>\n      <td>7</td>\n      <td>Uranus</td>\n      <td>86.8000</td>\n      <td>51118.0</td>\n      <td>Several astronomers, including Flamsteed and L...</td>\n    </tr>\n    <tr>\n      <th>7</th>\n      <td>8</td>\n      <td>Neptune</td>\n      <td>102.0000</td>\n      <td>49528.0</td>\n      <td>Neptune was \"predicted\" by John Couch Adams an...</td>\n    </tr>\n    <tr>\n      <th>8</th>\n      <td>9</td>\n      <td>Pluto</td>\n      <td>0.0146</td>\n      <td>2370.0</td>\n      <td>Pluto was discovered at Lowell Observatory in ...</td>\n    </tr>\n  </tbody>\n</table>\n</div>"
     },
     "execution_count": 17,
     "metadata": {},
     "output_type": "execute_result"
    }
   ],
   "source": [
    "# Verificando os dados\n",
    "import pandas as pd\n",
    "import warnings\n",
    "warnings.filterwarnings(\"ignore\")\n",
    "\n",
    "conn = pg.connect(user=\"postgres\",\n",
    "                  password=\"admin\",\n",
    "                  host=\"127.0.0.1\",\n",
    "                  port=\"5432\",\n",
    "                  database=\"scraping\")\n",
    "\n",
    "sql = \"SELECT * FROM planets\"\n",
    "\n",
    "pd.read_sql_query(sql, conn)"
   ],
   "metadata": {
    "collapsed": false,
    "pycharm": {
     "name": "#%%\n"
    }
   }
  },
  {
   "cell_type": "markdown",
   "source": [
    "<h3>Como construir um robusto ETL Pipeline com AWS SQS </h3>\n",
    "\n"
   ],
   "metadata": {
    "collapsed": false,
    "pycharm": {
     "name": "#%% md\n"
    }
   }
  },
  {
   "cell_type": "code",
   "execution_count": 18,
   "outputs": [
    {
     "name": "stdout",
     "output_type": "stream",
     "text": [
      "{'QueueUrl': 'https://queue.amazonaws.com/687587858514/PlanetMoreInfo_Willian', 'ResponseMetadata': {'RequestId': '24089395-d8ed-507f-b2ba-c80b3b3953fd', 'HTTPStatusCode': 200, 'HTTPHeaders': {'x-amzn-requestid': '24089395-d8ed-507f-b2ba-c80b3b3953fd', 'date': 'Fri, 16 Sep 2022 20:50:28 GMT', 'content-type': 'text/xml', 'content-length': '334'}, 'RetryAttempts': 0}}\n",
      "Sent https://en.wikipedia.org/wiki/Mercury_(planet) to https://queue.amazonaws.com/687587858514/PlanetMoreInfo_Willian\n",
      "Sent https://en.wikipedia.org/wiki/Venus to https://queue.amazonaws.com/687587858514/PlanetMoreInfo_Willian\n",
      "Sent https://en.wikipedia.org/wiki/Earth to https://queue.amazonaws.com/687587858514/PlanetMoreInfo_Willian\n",
      "Sent https://en.wikipedia.org/wiki/Mars to https://queue.amazonaws.com/687587858514/PlanetMoreInfo_Willian\n",
      "Sent https://en.wikipedia.org/wiki/Jupiter to https://queue.amazonaws.com/687587858514/PlanetMoreInfo_Willian\n",
      "Sent https://en.wikipedia.org/wiki/Saturn to https://queue.amazonaws.com/687587858514/PlanetMoreInfo_Willian\n",
      "Sent https://en.wikipedia.org/wiki/Uranus to https://queue.amazonaws.com/687587858514/PlanetMoreInfo_Willian\n",
      "Sent https://en.wikipedia.org/wiki/Neptune to https://queue.amazonaws.com/687587858514/PlanetMoreInfo_Willian\n",
      "Sent https://en.wikipedia.org/wiki/Pluto to https://queue.amazonaws.com/687587858514/PlanetMoreInfo_Willian\n"
     ]
    }
   ],
   "source": [
    "from urllib.request import urlopen\n",
    "from bs4 import BeautifulSoup\n",
    "import boto3\n",
    "import botocore\n",
    "\n",
    "# Declarando as chaves\n",
    "\n",
    "access_key = \"\"\n",
    "access_secret_key = \"\"\n",
    "\n",
    "# Criando um cliente SQS\n",
    "\n",
    "sqs = boto3.client('sqs', 'us-east-1', aws_access_key_id = access_key,\n",
    "                   aws_secret_access_key = access_secret_key)\n",
    "\n",
    "\n",
    "# Cria/ abre o SQS Queue\n",
    "\n",
    "queue = sqs.create_queue(QueueName=\"PlanetMoreInfo_Willian\")\n",
    "print(queue)\n",
    "\n",
    "# Lê e Parse o planets HTML\n",
    "html = urlopen(\"http://localhost:8080/planets.html\")\n",
    "bsobj = BeautifulSoup(html, 'lxml')\n",
    "\n",
    "planets =  []\n",
    "planet_rows = bsobj.html.body.div.table.findAll('tr', {'class': 'planet'})\n",
    "for i in planet_rows:\n",
    "\ttds = i.findAll('td')\n",
    "\t# Get a Url\n",
    "\tmore_info_url = tds[5].findAll('a')[0]['href'].strip()\n",
    "\t#Send the URL para a queue\n",
    "\tsqs.send_message(QueueUrl=queue['QueueUrl'], MessageBody=more_info_url)\n",
    "\tprint('Sent %s to %s' %(more_info_url,queue['QueueUrl']))\n",
    "\n"
   ],
   "metadata": {
    "collapsed": false,
    "pycharm": {
     "name": "#%%\n"
    }
   }
  }
 ],
 "metadata": {
  "kernelspec": {
   "display_name": "Python 3",
   "language": "python",
   "name": "python3"
  },
  "language_info": {
   "codemirror_mode": {
    "name": "ipython",
    "version": 2
   },
   "file_extension": ".py",
   "mimetype": "text/x-python",
   "name": "python",
   "nbconvert_exporter": "python",
   "pygments_lexer": "ipython2",
   "version": "2.7.6"
  }
 },
 "nbformat": 4,
 "nbformat_minor": 0
}