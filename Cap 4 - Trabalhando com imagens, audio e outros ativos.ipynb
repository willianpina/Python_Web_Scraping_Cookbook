{
 "cells": [
  {
   "cell_type": "markdown",
   "source": [
    "<h1 align=center>Trabalhando com Imagens, Audio e outros Ativos</h1>\n",
    "<p align=center><img src=https://thumbs.dreamstime.com/b/daw-music-multitrack-amostra-de-esta%C3%A7%C3%A3o-trabalho-%C3%A1udio-digital-m%C3%BAsica-computador-e-exemplos-trilhas-amostras-rastreamentos-197939414.jpg width=500></p>"
   ],
   "metadata": {
    "collapsed": false,
    "pycharm": {
     "name": "#%% md\n"
    }
   }
  },
  {
   "cell_type": "markdown",
   "source": [
    "<h3>Baixando conteúdo de mídia da internet</h3>"
   ],
   "metadata": {
    "collapsed": false,
    "pycharm": {
     "name": "#%% md\n"
    }
   }
  },
  {
   "cell_type": "code",
   "execution_count": 13,
   "outputs": [
    {
     "name": "stdout",
     "output_type": "stream",
     "text": [
      "Reading URL: https://apod.nasa.gov/apod/image/1709/BT5643s.jpg\n",
      "Read 171014 bytes\n",
      "171014\n"
     ]
    }
   ],
   "source": [
    "from util import const\n",
    "from util.urls import URLUtility\n",
    "\n",
    "util = URLUtility(const.ApodEclipseImage())\n",
    "print(len(util.data))\n"
   ],
   "metadata": {
    "collapsed": false,
    "pycharm": {
     "name": "#%%\n"
    }
   }
  },
  {
   "cell_type": "markdown",
   "source": [
    "<h3>Analisando um URL com urllib para obter o nome do arquivo</h3>"
   ],
   "metadata": {
    "collapsed": false,
    "pycharm": {
     "name": "#%% md\n"
    }
   }
  },
  {
   "cell_type": "code",
   "execution_count": 14,
   "outputs": [
    {
     "name": "stdout",
     "output_type": "stream",
     "text": [
      "Reading URL: https://apod.nasa.gov/apod/image/1709/BT5643s.jpg\n",
      "Read 171014 bytes\n",
      "BT5643s\n"
     ]
    }
   ],
   "source": [
    "util = URLUtility(const.ApodEclipseImage())\n",
    "print(util.filename_without_ext)"
   ],
   "metadata": {
    "collapsed": false,
    "pycharm": {
     "name": "#%%\n"
    }
   }
  },
  {
   "cell_type": "markdown",
   "source": [
    "<h3>Determinando o tipo de conteúdo para um URL</h3>"
   ],
   "metadata": {
    "collapsed": false,
    "pycharm": {
     "name": "#%% md\n"
    }
   }
  },
  {
   "cell_type": "code",
   "execution_count": 15,
   "outputs": [
    {
     "name": "stdout",
     "output_type": "stream",
     "text": [
      "Reading URL: https://apod.nasa.gov/apod/image/1709/BT5643s.jpg\n",
      "Read 171014 bytes\n",
      "The content type is: image/jpeg\n"
     ]
    }
   ],
   "source": [
    "# Captura o tipo de arquivo com base no servidor.\n",
    "util = URLUtility(const.ApodEclipseImage())\n",
    "print(\"The content type is: \" + util.contenttype)"
   ],
   "metadata": {
    "collapsed": false,
    "pycharm": {
     "name": "#%%\n"
    }
   }
  },
  {
   "cell_type": "code",
   "execution_count": 16,
   "outputs": [
    {
     "name": "stdout",
     "output_type": "stream",
     "text": [
      "Date\n",
      "Server\n",
      "X-Frame-Options\n",
      "Last-Modified\n",
      "ETag\n",
      "Accept-Ranges\n",
      "Content-Length\n",
      "Connection\n",
      "Content-Type\n",
      "Strict-Transport-Security\n",
      "Content-Security-Policy\n"
     ]
    }
   ],
   "source": [
    "# buscando outras características que há no HEADERS\n",
    "from urllib.request import urlopen\n",
    "\n",
    "response = urlopen(const.ApodEclipseImage())\n",
    "for header in response.headers:\n",
    "\tprint(header)\n"
   ],
   "metadata": {
    "collapsed": false,
    "pycharm": {
     "name": "#%%\n"
    }
   }
  },
  {
   "cell_type": "code",
   "execution_count": 17,
   "outputs": [
    {
     "name": "stdout",
     "output_type": "stream",
     "text": [
      "Date ==> Fri, 16 Sep 2022 21:59:18 GMT\n",
      "Server ==> WebServer/1.0\n",
      "X-Frame-Options ==> sameorigin\n",
      "Last-Modified ==> Thu, 31 Aug 2017 20:26:32 GMT\n",
      "ETag ==> \"547bb44-29c06-5581275ce2b86\"\n",
      "Accept-Ranges ==> bytes\n",
      "Content-Length ==> 171014\n",
      "Connection ==> close\n",
      "Content-Type ==> image/jpeg\n",
      "Strict-Transport-Security ==> max-age=31536000; includeSubDomains\n",
      "Content-Security-Policy ==> upgrade-insecure-requests\n"
     ]
    }
   ],
   "source": [
    "# Capturando todas as Características\n",
    "for header in response.headers:\n",
    "\tprint(header + \" ==> \" + response.headers[header])"
   ],
   "metadata": {
    "collapsed": false,
    "pycharm": {
     "name": "#%%\n"
    }
   }
  },
  {
   "cell_type": "markdown",
   "source": [
    "<h3>Determinando a extensão do arquivo de um tipo de conteúdo</h3>"
   ],
   "metadata": {
    "collapsed": false,
    "pycharm": {
     "name": "#%% md\n"
    }
   }
  },
  {
   "cell_type": "code",
   "execution_count": 18,
   "outputs": [
    {
     "name": "stdout",
     "output_type": "stream",
     "text": [
      "Reading URL: https://apod.nasa.gov/apod/image/1709/BT5643s.jpg\n",
      "Read 171014 bytes\n",
      "Filename from content-type: .jpg\n",
      "Filename from url: .jpg\n"
     ]
    }
   ],
   "source": [
    "util = URLUtility(const.ApodEclipseImage())\n",
    "print(\"Filename from content-type: \" + util.extension_from_contenttype)\n",
    "print(\"Filename from url: \" + util.extension_from_url)"
   ],
   "metadata": {
    "collapsed": false,
    "pycharm": {
     "name": "#%%\n"
    }
   }
  },
  {
   "cell_type": "markdown",
   "source": [
    "<h3>Ripando um vídeo MP4 para um MP3</h3>"
   ],
   "metadata": {
    "collapsed": false,
    "pycharm": {
     "name": "#%% md\n"
    }
   }
  },
  {
   "cell_type": "code",
   "execution_count": 21,
   "outputs": [
    {
     "name": "stdout",
     "output_type": "stream",
     "text": [
      "MoviePy - Writing audio in movie_audio.mp3\n"
     ]
    },
    {
     "name": "stderr",
     "output_type": "stream",
     "text": [
      "                                                                        "
     ]
    },
    {
     "name": "stdout",
     "output_type": "stream",
     "text": [
      "MoviePy - Done.\n"
     ]
    },
    {
     "name": "stderr",
     "output_type": "stream",
     "text": [
      "\r"
     ]
    }
   ],
   "source": [
    "import moviepy.editor as mp\n",
    "clip = mp.VideoFileClip(\"BigBuckBunny.mp4\")\n",
    "clip.audio.write_audiofile(\"movie_audio.mp3\")"
   ],
   "metadata": {
    "collapsed": false,
    "pycharm": {
     "name": "#%%\n"
    }
   }
  }
 ],
 "metadata": {
  "kernelspec": {
   "display_name": "Python 3",
   "language": "python",
   "name": "python3"
  },
  "language_info": {
   "codemirror_mode": {
    "name": "ipython",
    "version": 2
   },
   "file_extension": ".py",
   "mimetype": "text/x-python",
   "name": "python",
   "nbconvert_exporter": "python",
   "pygments_lexer": "ipython2",
   "version": "2.7.6"
  }
 },
 "nbformat": 4,
 "nbformat_minor": 0
}