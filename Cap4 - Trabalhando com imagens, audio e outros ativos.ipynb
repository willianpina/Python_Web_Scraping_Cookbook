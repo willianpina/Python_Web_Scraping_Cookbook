{
 "cells": [
  {
   "cell_type": "markdown",
   "source": [
    "<h1 align=center>Trabalhando com Imagens, Audio e outros Ativos</h1>\n",
    "<p align=center><img src=https://thumbs.dreamstime.com/b/daw-music-multitrack-amostra-de-esta%C3%A7%C3%A3o-trabalho-%C3%A1udio-digital-m%C3%BAsica-computador-e-exemplos-trilhas-amostras-rastreamentos-197939414.jpg width=500></p>"
   ],
   "metadata": {
    "collapsed": false,
    "pycharm": {
     "name": "#%% md\n"
    }
   }
  }
 ],
 "metadata": {
  "kernelspec": {
   "display_name": "Python 3",
   "language": "python",
   "name": "python3"
  },
  "language_info": {
   "codemirror_mode": {
    "name": "ipython",
    "version": 2
   },
   "file_extension": ".py",
   "mimetype": "text/x-python",
   "name": "python",
   "nbconvert_exporter": "python",
   "pygments_lexer": "ipython2",
   "version": "2.7.6"
  }
 },
 "nbformat": 4,
 "nbformat_minor": 0
}